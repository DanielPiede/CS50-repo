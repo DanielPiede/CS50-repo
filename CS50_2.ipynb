{
 "cells": [
  {
   "attachments": {},
   "cell_type": "markdown",
   "metadata": {},
   "source": [
    "### Lesson 2 of CS50"
   ]
  },
  {
   "cell_type": "code",
   "execution_count": 1,
   "metadata": {},
   "outputs": [
    {
     "name": "stdout",
     "output_type": "stream",
     "text": [
      "X is equal to y\n"
     ]
    }
   ],
   "source": [
    "# Conditionals:\n",
    "x = input('What is x?')\n",
    "y = input('What is y?')\n",
    "\n",
    "if x > y:\n",
    "    print('X is bigger than y')\n",
    "elif x < y:\n",
    "    print('X is smaller than y')\n",
    "else:\n",
    "    print('X is equal to y')"
   ]
  },
  {
   "cell_type": "code",
   "execution_count": 3,
   "metadata": {},
   "outputs": [
    {
     "name": "stdout",
     "output_type": "stream",
     "text": [
      "x is not equal to y\n"
     ]
    }
   ],
   "source": [
    "# Conditionals:\n",
    "x = input('What is x?')\n",
    "y = input('What is y?')\n",
    "\n",
    "# Use or:\n",
    "if x > y or x < y:\n",
    "    print('x is not equal to y')\n",
    "else:\n",
    "    print('x is equal to y')"
   ]
  },
  {
   "cell_type": "code",
   "execution_count": 5,
   "metadata": {},
   "outputs": [
    {
     "name": "stdout",
     "output_type": "stream",
     "text": [
      "x is equal to y\n"
     ]
    }
   ],
   "source": [
    "# Use the not equal operator:\n",
    "x = input('What is x?')\n",
    "y = input('What is y?')\n",
    "\n",
    "if x != y:\n",
    "    print('x is not equal to y')\n",
    "else:\n",
    "    print('x is equal to y')"
   ]
  },
  {
   "cell_type": "code",
   "execution_count": 8,
   "metadata": {},
   "outputs": [
    {
     "name": "stdout",
     "output_type": "stream",
     "text": [
      "Grade: F\n"
     ]
    }
   ],
   "source": [
    "# Use and:\n",
    "score = int(input('Score?'))\n",
    "\n",
    "if score >= 90 and score <= 100:\n",
    "    print('Grade: A')\n",
    "elif score >= 80 and score <= 90:\n",
    "    print('Grade: B')\n",
    "elif score >= 70 and score <= 80:\n",
    "    print('Grade: C')\n",
    "elif score >= 60 and score <= 70:\n",
    "    print('Grade: D')\n",
    "else:\n",
    "    print('Grade: F')"
   ]
  },
  {
   "cell_type": "code",
   "execution_count": 11,
   "metadata": {},
   "outputs": [
    {
     "name": "stdout",
     "output_type": "stream",
     "text": [
      "Grade: F\n"
     ]
    }
   ],
   "source": [
    "# Simplify further:\n",
    "score = int(input('Score?'))\n",
    "\n",
    "if score >= 90:\n",
    "    print('Grade: A')\n",
    "elif score >= 80:\n",
    "    print('Grade: B')\n",
    "elif score >= 70:\n",
    "    print('Grade: C')\n",
    "elif score >= 60:\n",
    "    print('Grade: D')\n",
    "else:\n",
    "    print('Grade: F')\n"
   ]
  },
  {
   "cell_type": "code",
   "execution_count": 13,
   "metadata": {},
   "outputs": [
    {
     "name": "stdout",
     "output_type": "stream",
     "text": [
      "Number is odd\n"
     ]
    }
   ],
   "source": [
    "# Using modulo to determine if a number is odd or even\n",
    "number = int(input('Enter a number: '))\n",
    "\n",
    "if number % 2 == 0:\n",
    "    print('Number is even')\n",
    "else:\n",
    "    print('Number is odd')"
   ]
  },
  {
   "cell_type": "code",
   "execution_count": 14,
   "metadata": {},
   "outputs": [
    {
     "name": "stdout",
     "output_type": "stream",
     "text": [
      "Even\n"
     ]
    }
   ],
   "source": [
    "# Define the is_even funtion and use it in a condition:\n",
    "def main():\n",
    "    x = int(input('Number?: '))\n",
    "    if is_even(x):\n",
    "        print('Even')\n",
    "    else:\n",
    "        print('Odd')\n",
    "\n",
    "def is_even(x):\n",
    "    if x % 2 == 0:\n",
    "        return True\n",
    "\n",
    "main()"
   ]
  },
  {
   "cell_type": "code",
   "execution_count": 16,
   "metadata": {},
   "outputs": [
    {
     "name": "stdout",
     "output_type": "stream",
     "text": [
      "Odd\n"
     ]
    }
   ],
   "source": [
    "# More elegant code:\n",
    "def main():\n",
    "    x = int(input('Number?: '))\n",
    "    if is_even(x):\n",
    "        print('Even')\n",
    "    else:\n",
    "        print('Odd')\n",
    "\n",
    "# As the condition evaluates to true or false it can be used as the return value\n",
    "def is_even(x):\n",
    "    return x % 2 == 0\n",
    "\n",
    "main()"
   ]
  },
  {
   "cell_type": "code",
   "execution_count": 22,
   "metadata": {},
   "outputs": [
    {
     "name": "stdout",
     "output_type": "stream",
     "text": [
      "Who?\n"
     ]
    }
   ],
   "source": [
    "# Using match:\n",
    "name = input('What is your name?')\n",
    "\n",
    "# In the match statement, we can also use the catch all operator _\n",
    "match name:\n",
    "    case 'Harry' | 'Hermione' | 'Ron':\n",
    "        print('Gryffindor')\n",
    "    case 'Draco':\n",
    "        print('Slytherin')\n",
    "    case _:\n",
    "        print('Who?')\n",
    "    "
   ]
  }
 ],
 "metadata": {
  "kernelspec": {
   "display_name": "Python 3",
   "language": "python",
   "name": "python3"
  },
  "language_info": {
   "codemirror_mode": {
    "name": "ipython",
    "version": 3
   },
   "file_extension": ".py",
   "mimetype": "text/x-python",
   "name": "python",
   "nbconvert_exporter": "python",
   "pygments_lexer": "ipython3",
   "version": "3.11.1"
  },
  "orig_nbformat": 4,
  "vscode": {
   "interpreter": {
    "hash": "a0f39f3b23881101a7bcfb8fc19198c94cdcd5b458a2d2413418fdd1409f7093"
   }
  }
 },
 "nbformat": 4,
 "nbformat_minor": 2
}
