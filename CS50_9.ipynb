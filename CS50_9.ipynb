{
 "cells": [
  {
   "attachments": {},
   "cell_type": "markdown",
   "metadata": {},
   "source": [
    "### Lesson 9 of CS50 (Object Oriented Programming):"
   ]
  },
  {
   "cell_type": "code",
   "execution_count": 2,
   "metadata": {},
   "outputs": [
    {
     "name": "stdout",
     "output_type": "stream",
     "text": [
      "Harry from Gryffindor\n"
     ]
    }
   ],
   "source": [
    "# Get Data and use a functional example:\n",
    "def main():\n",
    "    name = get_name()\n",
    "    house = get_house()\n",
    "    print(f\"{name} from {house}\")\n",
    "\n",
    "\n",
    "def get_name():\n",
    "    return input(\"Name: \")\n",
    "\n",
    "\n",
    "def get_house():\n",
    "    return input(\"House: \")\n",
    "\n",
    "\n",
    "if __name__ == \"__main__\":\n",
    "    main()"
   ]
  },
  {
   "attachments": {},
   "cell_type": "markdown",
   "metadata": {},
   "source": [
    "#### Tuples and how they are returned when using several return values:"
   ]
  },
  {
   "attachments": {},
   "cell_type": "markdown",
   "metadata": {},
   "source": [
    "Tuples are immutable, so we cannot modify them directly."
   ]
  },
  {
   "cell_type": "code",
   "execution_count": 5,
   "metadata": {},
   "outputs": [
    {
     "name": "stdout",
     "output_type": "stream",
     "text": [
      "Harry from Gryffindor\n"
     ]
    }
   ],
   "source": [
    "# Think about the student in a functional programming example:\n",
    "def main():\n",
    "    # Getting and accessing the student tuple:\n",
    "    student = get_student()\n",
    "    print(f\"{student[0]} from {student[1]}\")\n",
    "\n",
    "\n",
    "def get_student():\n",
    "    name = input(\"Name: \")\n",
    "    house = input(\"House: \")\n",
    "    # This returns not two separate values, but a tuple!\n",
    "    return name, house\n",
    "\n",
    "\n",
    "if __name__ == \"__main__\":\n",
    "    main()"
   ]
  },
  {
   "cell_type": "code",
   "execution_count": 8,
   "metadata": {},
   "outputs": [
    {
     "name": "stdout",
     "output_type": "stream",
     "text": [
      "Padma from Ravenclaw\n"
     ]
    }
   ],
   "source": [
    "# Same as above but mutable with a list:\n",
    "def main():\n",
    "    # Getting and accessing the student list and change it:\n",
    "    student = get_student()\n",
    "    if student[0] == \"Padma\":\n",
    "        student[1] = \"Ravenclaw\"\n",
    "    print(f\"{student[0]} from {student[1]}\")\n",
    "\n",
    "\n",
    "def get_student():\n",
    "    name = input(\"Name: \")\n",
    "    house = input(\"House: \")\n",
    "    # This returns not two separate values, but a list!\n",
    "    return [name, house]\n",
    "\n",
    "\n",
    "if __name__ == \"__main__\":\n",
    "    main()"
   ]
  },
  {
   "cell_type": "code",
   "execution_count": 10,
   "metadata": {},
   "outputs": [
    {
     "name": "stdout",
     "output_type": "stream",
     "text": [
      "Padma from Ravenclaw\n"
     ]
    }
   ],
   "source": [
    "# Use a Dictionary instead, so we do not mix up the values, this is mutable as well:\n",
    "def main():\n",
    "    # Getting and accessing the student dict and change it:\n",
    "    student = get_student()\n",
    "    if student['name'] == \"Padma\":\n",
    "        student['house'] = \"Ravenclaw\"\n",
    "    print(f\"{student['name']} from {student['house']}\")\n",
    "\n",
    "\n",
    "def get_student():\n",
    "    name = input('Name: ')\n",
    "    house = input('House: ')\n",
    "    # This returns not two separate values, but a dict!\n",
    "    return {\"name\": name, \"house\": house}\n",
    "\n",
    "\n",
    "if __name__ == \"__main__\":\n",
    "    main()"
   ]
  },
  {
   "attachments": {},
   "cell_type": "markdown",
   "metadata": {},
   "source": [
    "### Object Oriented Programming using classes:"
   ]
  },
  {
   "cell_type": "code",
   "execution_count": 14,
   "metadata": {},
   "outputs": [
    {
     "name": "stdout",
     "output_type": "stream",
     "text": [
      "Harry is in Gryffindor\n"
     ]
    }
   ],
   "source": [
    "def main():\n",
    "    student = get_student()\n",
    "    print(f\"{student.name} is in {student.house}\")\n",
    "\n",
    "\n",
    "# Define a class:\n",
    "class Student:\n",
    "    ...\n",
    "\n",
    "\n",
    "def get_student():\n",
    "    # Instantiate a class object:\n",
    "    student = Student()\n",
    "    # we use varibles here, not instance attributes:\n",
    "    student.name = input(\"What is the name of the student? \")\n",
    "    student.house = input(\"What is the house?\" )\n",
    "    return student\n",
    "\n",
    "\n",
    "if __name__ == \"__main__\":\n",
    "    main()"
   ]
  },
  {
   "cell_type": "code",
   "execution_count": 15,
   "metadata": {},
   "outputs": [
    {
     "name": "stdout",
     "output_type": "stream",
     "text": [
      "Harry is in Gryffindor\n"
     ]
    }
   ],
   "source": [
    "def main():\n",
    "    student = get_student()\n",
    "    print(f\"{student.name} is in {student.house}\")\n",
    "\n",
    "\n",
    "# Define a class and give it methods:\n",
    "class Student:\n",
    "    # Initialize the class with the dunder init method:\n",
    "    # Self is necessary to link them to the current object and to store it there:\n",
    "    def __init__(self, name, house):\n",
    "        # Instance variables:\n",
    "        self.name = name\n",
    "        self.house = house\n",
    "\n",
    "\n",
    "def get_student():\n",
    "    name = input(\"What is the name of the student? \")\n",
    "    house = input(\"What is the house?\" )\n",
    "    # This time pass in the values to student constructor:\n",
    "    student = Student(name, house)\n",
    "    return student\n",
    "\n",
    "\n",
    "if __name__ == \"__main__\":\n",
    "    main()"
   ]
  },
  {
   "attachments": {},
   "cell_type": "markdown",
   "metadata": {},
   "source": [
    "We can also define our own methods inside the class, as seen below with the patronus charm method for our student class."
   ]
  },
  {
   "cell_type": "code",
   "execution_count": 18,
   "metadata": {},
   "outputs": [
    {
     "name": "stdout",
     "output_type": "stream",
     "text": [
      "This student is called Harry and belongs to Gryffindor.\n",
      "Expecto Patronum!\n",
      "🦌\n"
     ]
    }
   ],
   "source": [
    "def main():\n",
    "    student = get_student()\n",
    "    print(f\"{student}\")\n",
    "    print(\"Expecto Patronum!\")\n",
    "    print(student.charm())\n",
    "\n",
    "\n",
    "# We can raise our own exception but should do so in the class, as we want not to have it spread over multiple methods:\n",
    "class Student:\n",
    "    def __init__(self, name, house, patronus):\n",
    "        if not name:\n",
    "            raise ValueError(\"Missing name\")\n",
    "        if house not in [\"Gryffindor\", \"Hufflepuff\", \"Ravenclaw\", \"Slytherin\"]:\n",
    "            raise ValueError(\"Invalid house\")\n",
    "        self.name = name\n",
    "        self.house = house\n",
    "        self.patronus = patronus\n",
    "\n",
    "    def __str__(self):\n",
    "        return f\"This student is called {self.name} and belongs to {self.house}.\"\n",
    "    \n",
    "    def charm(self):\n",
    "        match self.patronus:\n",
    "            case \"Stag\":\n",
    "                return \"🦌\"\n",
    "            case \"Otter\":\n",
    "                return \"🦦\"\n",
    "            case \"Jack Russell Terrier\":\n",
    "                return \"🐶\"\n",
    "            case _:\n",
    "                return \"🪄\"\n",
    "\n",
    "\n",
    "# We can catch the error in the functions that could trigger it like this constructor:\n",
    "def get_student():\n",
    "    name = input(\"What is the name of the student? \")\n",
    "    house = input(\"What is the house?\")\n",
    "    patronus = input(\"What is the patronus? \")\n",
    "    return Student(name, house, patronus)\n",
    "\n",
    "\n",
    "if __name__ == \"__main__\":\n",
    "    main()"
   ]
  },
  {
   "attachments": {},
   "cell_type": "markdown",
   "metadata": {},
   "source": [
    "Return back to the code without the charm method:\n",
    "Additionally use getter and setter:\n",
    "_xyz is an underlying instance variable, the underscore signals that this is a private variable we should not touch."
   ]
  },
  {
   "cell_type": "code",
   "execution_count": null,
   "metadata": {},
   "outputs": [],
   "source": [
    "def main():\n",
    "    student = get_student()\n",
    "    print(f\"{student}\")\n",
    "\n",
    "\n",
    "# We want to be more defensive about what we can change in the class, therefore using a property and a setter (decorators) instead of an attribute:\n",
    "# The setter will always be called when we access the .house attribute:\n",
    "class Student:\n",
    "    def __init__(self, name, house):\n",
    "        self.name = name\n",
    "        self.house = house\n",
    "\n",
    "    def __str__(self):\n",
    "        return f\"This student is called {self.name} and belongs to {self.house}.\"\n",
    "\n",
    "    @property\n",
    "    def name(self):\n",
    "        return self._name\n",
    "\n",
    "    @name.setter\n",
    "    def name(self, name):\n",
    "        if not name:\n",
    "            raise ValueError(\"Missing name\")\n",
    "        self._name = name\n",
    "\n",
    "    @property\n",
    "    def house(self):\n",
    "        return self._house\n",
    "\n",
    "    @house.setter\n",
    "    def house(self, house):\n",
    "        if house not in [\"Gryffindor\", \"Hufflepuff\", \"Ravenclaw\", \"Slytherin\"]:\n",
    "            raise ValueError(\"Invalid house\")\n",
    "        self._house = house\n",
    "\n",
    "\n",
    "def get_student():\n",
    "    name = input(\"What is the name of the student? \")\n",
    "    house = input(\"What is the house?\")\n",
    "    return Student(name, house)\n",
    "\n",
    "\n",
    "if __name__ == \"__main__\":\n",
    "    main()"
   ]
  },
  {
   "attachments": {},
   "cell_type": "markdown",
   "metadata": {},
   "source": [
    "Investigate Datatypes"
   ]
  },
  {
   "cell_type": "code",
   "execution_count": 29,
   "metadata": {},
   "outputs": [
    {
     "name": "stdout",
     "output_type": "stream",
     "text": [
      "<class 'int'>\n",
      "<class 'str'>\n",
      "<class 'list'>\n",
      "<class 'tuple'>\n",
      "<class 'dict'>\n",
      "<class 'set'>\n",
      "<class 'float'>\n"
     ]
    }
   ],
   "source": [
    "print(type(50))\n",
    "print(type(\"Hello, World\"))\n",
    "print(type([]))\n",
    "print(type(()))\n",
    "print(type({}))\n",
    "print(type(set([])))\n",
    "print(type(50.0))"
   ]
  },
  {
   "attachments": {},
   "cell_type": "markdown",
   "metadata": {},
   "source": [
    "Class methods are not associated with the instance of it:"
   ]
  },
  {
   "attachments": {},
   "cell_type": "markdown",
   "metadata": {},
   "source": [
    "We should use classes when we want to implement real world entities:\n",
    "\n",
    "However, they are blueprints, so it is incosistant if we would instanciate many when there is only one."
   ]
  },
  {
   "cell_type": "code",
   "execution_count": 64,
   "metadata": {},
   "outputs": [
    {
     "name": "stdout",
     "output_type": "stream",
     "text": [
      "Harry is in Gryffindor\n"
     ]
    }
   ],
   "source": [
    "import random\n",
    "\n",
    "# uses @classmethod which is another decorator:\n",
    "class Hat:\n",
    "    # houses is a class variable not bound to an object, instead it is accesed through a class method:\n",
    "    houses = [\"Gryffindor\", \"Hufflepuff\", \"Ravenclaw\", \"Slytherin\"]\n",
    "\n",
    "    @classmethod\n",
    "    def sort(cls, name):\n",
    "        print(name, \"is in\", random.choice(cls.houses))\n",
    "\n",
    "# There is nothing we need to instantiate:\n",
    "Hat.sort(\"Harry\")"
   ]
  },
  {
   "cell_type": "code",
   "execution_count": 65,
   "metadata": {},
   "outputs": [
    {
     "name": "stdout",
     "output_type": "stream",
     "text": [
      "This student is called Harry and belongs to Gryffindor.\n"
     ]
    }
   ],
   "source": [
    "def main():\n",
    "    student = Student.get()\n",
    "    print(f\"{student}\")\n",
    "\n",
    "\n",
    "# We want to be more defensive about what we can change in the class, therefore using a property and a setter (decorators) instead of an attribute:\n",
    "# The setter will always be called when we access the .house attribute:\n",
    "class Student:\n",
    "    def __init__(self, name, house):\n",
    "        self.name = name\n",
    "        self.house = house\n",
    "\n",
    "    def __str__(self):\n",
    "        return f\"This student is called {self.name} and belongs to {self.house}.\"\n",
    "\n",
    "    # This classmethod is responsible to instantiate all students with name and house, as it comes before a isntance it is not related to the student directly:\n",
    "    @classmethod\n",
    "    def get(cls):\n",
    "        name = input(\"Name: \")\n",
    "        house = input(\"House: \")\n",
    "        return cls(name, house)\n",
    "\n",
    "\n",
    "def get_student():\n",
    "    name = input(\"What is the name of the student? \")\n",
    "    house = input(\"What is the house?\")\n",
    "    return Student(name, house)\n",
    "\n",
    "\n",
    "if __name__ == \"__main__\":\n",
    "    main()"
   ]
  },
  {
   "attachments": {},
   "cell_type": "markdown",
   "metadata": {},
   "source": [
    "Inheritance"
   ]
  },
  {
   "cell_type": "code",
   "execution_count": 67,
   "metadata": {},
   "outputs": [],
   "source": [
    "def main():\n",
    "    student = Student(\"Harry\", \"Gryffindor\")\n",
    "    professor = Professor(\"Severus\", \"Defense Against The Dark Arts\")\n",
    "\n",
    "\n",
    "class Wizard:\n",
    "    def __init__(self, name):\n",
    "        if not name:\n",
    "            raise ValueError(\"Name is empty\")\n",
    "        self.name = name\n",
    "\n",
    "# In order to make student inherit from wizard class we need to pass the super class into the class,\n",
    "# to access the super class' init function we need to access it with super() and call the function and pass the necessary arguments:\n",
    "class Student(Wizard):\n",
    "    def __init__(self, name, house):\n",
    "        super().__init__(name)\n",
    "        self.house = house\n",
    "\n",
    "\n",
    "class Professor(Wizard):\n",
    "    def __init__(self, name, subject):\n",
    "        super().__init__(name)\n",
    "        self.subject = subject\n",
    "\n",
    "\n",
    "if __name__ == \"__main__\":\n",
    "    main()"
   ]
  },
  {
   "attachments": {},
   "cell_type": "markdown",
   "metadata": {},
   "source": [
    "Overloading"
   ]
  },
  {
   "cell_type": "code",
   "execution_count": 70,
   "metadata": {},
   "outputs": [
    {
     "name": "stdout",
     "output_type": "stream",
     "text": [
      "Galleons: 100, Sickles: 50, Knuts: 25\n"
     ]
    }
   ],
   "source": [
    "class Vault():\n",
    "    def __init__(self, galleons = 0, sickles = 0, knuts = 0):\n",
    "        self.galleons = galleons\n",
    "        self.sickles = sickles\n",
    "        self.knuts = knuts\n",
    "    \n",
    "    def __str__(self):\n",
    "        return str(f\"Galleons: {self.galleons}, Sickles: {self.sickles}, Knuts: {self.knuts}\")\n",
    "\n",
    "# Instantiate two objects and print them:\n",
    "potter = Vault(100,50,25)\n",
    "print(potter)\n",
    "\n",
    "weasley = Vault(100,50,25)\n",
    "print(weasley)\n",
    "\n"
   ]
  }
 ],
 "metadata": {
  "kernelspec": {
   "display_name": "Python 3",
   "language": "python",
   "name": "python3"
  },
  "language_info": {
   "codemirror_mode": {
    "name": "ipython",
    "version": 3
   },
   "file_extension": ".py",
   "mimetype": "text/x-python",
   "name": "python",
   "nbconvert_exporter": "python",
   "pygments_lexer": "ipython3",
   "version": "3.11.1"
  },
  "orig_nbformat": 4,
  "vscode": {
   "interpreter": {
    "hash": "a0f39f3b23881101a7bcfb8fc19198c94cdcd5b458a2d2413418fdd1409f7093"
   }
  }
 },
 "nbformat": 4,
 "nbformat_minor": 2
}
