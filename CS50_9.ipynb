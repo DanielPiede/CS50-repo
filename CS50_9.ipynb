{
 "cells": [
  {
   "attachments": {},
   "cell_type": "markdown",
   "metadata": {},
   "source": [
    "### Lesson 9 of CS50 (Object Oriented Programming):"
   ]
  },
  {
   "cell_type": "code",
   "execution_count": 2,
   "metadata": {},
   "outputs": [
    {
     "name": "stdout",
     "output_type": "stream",
     "text": [
      "Harry from Gryffindor\n"
     ]
    }
   ],
   "source": [
    "# Get Data and use a functional example:\n",
    "def main():\n",
    "    name = get_name()\n",
    "    house = get_house()\n",
    "    print(f\"{name} from {house}\")\n",
    "\n",
    "\n",
    "def get_name():\n",
    "    return input(\"Name: \")\n",
    "\n",
    "\n",
    "def get_house():\n",
    "    return input(\"House: \")\n",
    "\n",
    "\n",
    "if __name__ == \"__main__\":\n",
    "    main()"
   ]
  },
  {
   "attachments": {},
   "cell_type": "markdown",
   "metadata": {},
   "source": [
    "#### Tuples and how they are returned when using several return values:"
   ]
  },
  {
   "attachments": {},
   "cell_type": "markdown",
   "metadata": {},
   "source": [
    "Tuples are immutable, so we cannot modify them directly."
   ]
  },
  {
   "cell_type": "code",
   "execution_count": 5,
   "metadata": {},
   "outputs": [
    {
     "name": "stdout",
     "output_type": "stream",
     "text": [
      "Harry from Gryffindor\n"
     ]
    }
   ],
   "source": [
    "# Think about the student in a functional programming example:\n",
    "def main():\n",
    "    # Getting and accessing the student tuple:\n",
    "    student = get_student()\n",
    "    print(f\"{student[0]} from {student[1]}\")\n",
    "\n",
    "\n",
    "def get_student():\n",
    "    name = input(\"Name: \")\n",
    "    house = input(\"House: \")\n",
    "    # This returns not two separate values, but a tuple!\n",
    "    return name, house\n",
    "\n",
    "\n",
    "if __name__ == \"__main__\":\n",
    "    main()"
   ]
  },
  {
   "cell_type": "code",
   "execution_count": 8,
   "metadata": {},
   "outputs": [
    {
     "name": "stdout",
     "output_type": "stream",
     "text": [
      "Padma from Ravenclaw\n"
     ]
    }
   ],
   "source": [
    "# Same as above but mutable with a list:\n",
    "def main():\n",
    "    # Getting and accessing the student list and change it:\n",
    "    student = get_student()\n",
    "    if student[0] == \"Padma\":\n",
    "        student[1] = \"Ravenclaw\"\n",
    "    print(f\"{student[0]} from {student[1]}\")\n",
    "\n",
    "\n",
    "def get_student():\n",
    "    name = input(\"Name: \")\n",
    "    house = input(\"House: \")\n",
    "    # This returns not two separate values, but a list!\n",
    "    return [name, house]\n",
    "\n",
    "\n",
    "if __name__ == \"__main__\":\n",
    "    main()"
   ]
  },
  {
   "cell_type": "code",
   "execution_count": 10,
   "metadata": {},
   "outputs": [
    {
     "name": "stdout",
     "output_type": "stream",
     "text": [
      "Padma from Ravenclaw\n"
     ]
    }
   ],
   "source": [
    "# Use a Dictionary instead, so we do not mix up the values, this is mutable as well:\n",
    "def main():\n",
    "    # Getting and accessing the student dict and change it:\n",
    "    student = get_student()\n",
    "    if student['name'] == \"Padma\":\n",
    "        student['house'] = \"Ravenclaw\"\n",
    "    print(f\"{student['name']} from {student['house']}\")\n",
    "\n",
    "\n",
    "def get_student():\n",
    "    name = input('Name: ')\n",
    "    house = input('House: ')\n",
    "    # This returns not two separate values, but a dict!\n",
    "    return {\"name\": name, \"house\": house}\n",
    "\n",
    "\n",
    "if __name__ == \"__main__\":\n",
    "    main()"
   ]
  },
  {
   "attachments": {},
   "cell_type": "markdown",
   "metadata": {},
   "source": [
    "### Object Oriented Programming using classes:"
   ]
  },
  {
   "cell_type": "code",
   "execution_count": 14,
   "metadata": {},
   "outputs": [
    {
     "name": "stdout",
     "output_type": "stream",
     "text": [
      "Harry is in Gryffindor\n"
     ]
    }
   ],
   "source": [
    "def main():\n",
    "    student = get_student()\n",
    "    print(f\"{student.name} is in {student.house}\")\n",
    "\n",
    "\n",
    "# Define a class:\n",
    "class Student:\n",
    "    ...\n",
    "\n",
    "\n",
    "def get_student():\n",
    "    # Instantiate a class object:\n",
    "    student = Student()\n",
    "    # we use varibles here, not instance attributes:\n",
    "    student.name = input(\"What is the name of the student? \")\n",
    "    student.house = input(\"What is the house?\" )\n",
    "    return student\n",
    "\n",
    "\n",
    "if __name__ == \"__main__\":\n",
    "    main()"
   ]
  },
  {
   "cell_type": "code",
   "execution_count": 15,
   "metadata": {},
   "outputs": [
    {
     "name": "stdout",
     "output_type": "stream",
     "text": [
      "Harry is in Gryffindor\n"
     ]
    }
   ],
   "source": [
    "def main():\n",
    "    student = get_student()\n",
    "    print(f\"{student.name} is in {student.house}\")\n",
    "\n",
    "\n",
    "# Define a class and give it methods:\n",
    "class Student:\n",
    "    # Initialize the class with the dunder init method:\n",
    "    # Self is necessary to link them to the current object and to store it there:\n",
    "    def __init__(self, name, house):\n",
    "        # Instance variables:\n",
    "        self.name = name\n",
    "        self.house = house\n",
    "\n",
    "\n",
    "def get_student():\n",
    "    name = input(\"What is the name of the student? \")\n",
    "    house = input(\"What is the house?\" )\n",
    "    # This time pass in the values to student constructor:\n",
    "    student = Student(name, house)\n",
    "    return student\n",
    "\n",
    "\n",
    "if __name__ == \"__main__\":\n",
    "    main()"
   ]
  }
 ],
 "metadata": {
  "kernelspec": {
   "display_name": "Python 3",
   "language": "python",
   "name": "python3"
  },
  "language_info": {
   "codemirror_mode": {
    "name": "ipython",
    "version": 3
   },
   "file_extension": ".py",
   "mimetype": "text/x-python",
   "name": "python",
   "nbconvert_exporter": "python",
   "pygments_lexer": "ipython3",
   "version": "3.11.1"
  },
  "orig_nbformat": 4,
  "vscode": {
   "interpreter": {
    "hash": "a0f39f3b23881101a7bcfb8fc19198c94cdcd5b458a2d2413418fdd1409f7093"
   }
  }
 },
 "nbformat": 4,
 "nbformat_minor": 2
}
