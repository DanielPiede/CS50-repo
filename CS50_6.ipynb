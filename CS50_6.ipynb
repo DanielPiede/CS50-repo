{
 "cells": [
  {
   "attachments": {},
   "cell_type": "markdown",
   "metadata": {},
   "source": [
    "### Lesson 6 of CS50 (Unit Tests):\n"
   ]
  },
  {
   "cell_type": "code",
   "execution_count": 1,
   "metadata": {},
   "outputs": [
    {
     "name": "stdout",
     "output_type": "stream",
     "text": [
      "3 squared was not 9!\n"
     ]
    }
   ],
   "source": [
    "# We can import functions from other python scripts as modules to test them:\n",
    "import sys\n",
    "\n",
    "# sys.path.append('../CS50-repo/')\n",
    "# path contains calculator.py\n",
    "from calculator import square\n",
    "\n",
    "\n",
    "def main():\n",
    "    test_square()\n",
    "\n",
    "\n",
    "def test_square():\n",
    "    if square(2) != 4:\n",
    "        print(\"2 squared was not 4!\")\n",
    "    if square(3) != 9:\n",
    "        print(\"3 squared was not 9!\")\n",
    "\n",
    "\n",
    "if __name__ == \"__main__\":\n",
    "    main()"
   ]
  },
  {
   "cell_type": "code",
   "execution_count": 2,
   "metadata": {},
   "outputs": [
    {
     "name": "stdout",
     "output_type": "stream",
     "text": [
      "3 squared was not 9\n"
     ]
    }
   ],
   "source": [
    "# Using assertions instead:\n",
    "def main():\n",
    "    test_square()\n",
    "\n",
    "\n",
    "def test_square():\n",
    "    try:\n",
    "        assert square(2) == 4\n",
    "    except AssertionError:\n",
    "        print(\"2 squared was not 4\")\n",
    "    try:\n",
    "        assert square(3) == 9\n",
    "    except AssertionError:\n",
    "        print(\"3 squared was not 9\")\n",
    "\n",
    "\n",
    "if __name__ == \"__main__\":\n",
    "    main()"
   ]
  },
  {
   "cell_type": "code",
   "execution_count": 3,
   "metadata": {},
   "outputs": [
    {
     "name": "stdout",
     "output_type": "stream",
     "text": [
      "Requirement already satisfied: pytest in c:\\users\\daniel (privat)\\appdata\\local\\programs\\python\\python311\\lib\\site-packages (7.2.0)\n",
      "Requirement already satisfied: attrs>=19.2.0 in c:\\users\\daniel (privat)\\appdata\\local\\programs\\python\\python311\\lib\\site-packages (from pytest) (22.1.0)\n",
      "Requirement already satisfied: iniconfig in c:\\users\\daniel (privat)\\appdata\\local\\programs\\python\\python311\\lib\\site-packages (from pytest) (1.1.1)\n",
      "Requirement already satisfied: packaging in c:\\users\\daniel (privat)\\appdata\\roaming\\python\\python311\\site-packages (from pytest) (22.0)\n",
      "Requirement already satisfied: pluggy<2.0,>=0.12 in c:\\users\\daniel (privat)\\appdata\\local\\programs\\python\\python311\\lib\\site-packages (from pytest) (1.0.0)\n",
      "Requirement already satisfied: colorama in c:\\users\\daniel (privat)\\appdata\\roaming\\python\\python311\\site-packages (from pytest) (0.4.6)\n",
      "Note: you may need to restart the kernel to use updated packages.\n"
     ]
    }
   ],
   "source": [
    "# Install pytest:\n",
    "%pip install pytest"
   ]
  },
  {
   "cell_type": "code",
   "execution_count": 4,
   "metadata": {},
   "outputs": [],
   "source": [
    "# Using pytest, this is the parameterized version for Jupyter notebook:\n",
    "import pytest\n",
    "import ipytest\n",
    "ipytest.autoconfig()\n",
    "ipytest.config.rewrite_asserts = True\n",
    "__file__ = \"CS50_6.ipynb\""
   ]
  },
  {
   "cell_type": "code",
   "execution_count": 5,
   "metadata": {},
   "outputs": [],
   "source": [
    "@pytest.mark.parametrize('input, expected', [\n",
    "    (2,4),\n",
    "    (3,9),\n",
    "    (-2,4),\n",
    "    (-3,9),\n",
    "    (0,0),\n",
    "])\n",
    "\n",
    "def test_parameterized(input, expected):\n",
    "    assert square(input) == expected"
   ]
  },
  {
   "cell_type": "code",
   "execution_count": null,
   "metadata": {},
   "outputs": [],
   "source": [
    "ipytest.run()"
   ]
  },
  {
   "cell_type": "code",
   "execution_count": null,
   "metadata": {},
   "outputs": [],
   "source": [
    "# This is the version we could use to do it with pytest in a python script:\n",
    "def test_positive():\n",
    "    assert square(2) == 2\n",
    "    assert square(3) == 9\n",
    "\n",
    "\n",
    "def test_negative():\n",
    "    assert square(-2) == 2\n",
    "    assert square(-3) == 9\n",
    "\n",
    "\n",
    "def test_zero():\n",
    "    assert square(0) == 0\n",
    "\n",
    "\n",
    "# For situations where we want to see an error message:\n",
    "def test_str():\n",
    "    with pytest.raises(TypeError):\n",
    "        square(\"cat\")\n",
    "\n",
    "\n",
    "# Use it with pytest in the terminal.\n",
    "# We can only do this with functions that are actually returning something.\n",
    "# The test file can also be in a folder, however we need to make sure that the folder is being recognized as a package (create __init__.py in that folder)."
   ]
  }
 ],
 "metadata": {
  "kernelspec": {
   "display_name": "Python 3",
   "language": "python",
   "name": "python3"
  },
  "language_info": {
   "codemirror_mode": {
    "name": "ipython",
    "version": 3
   },
   "file_extension": ".py",
   "mimetype": "text/x-python",
   "name": "python",
   "nbconvert_exporter": "python",
   "pygments_lexer": "ipython3",
   "version": "3.11.1 (tags/v3.11.1:a7a450f, Dec  6 2022, 19:58:39) [MSC v.1934 64 bit (AMD64)]"
  },
  "orig_nbformat": 4,
  "vscode": {
   "interpreter": {
    "hash": "a0f39f3b23881101a7bcfb8fc19198c94cdcd5b458a2d2413418fdd1409f7093"
   }
  }
 },
 "nbformat": 4,
 "nbformat_minor": 2
}
