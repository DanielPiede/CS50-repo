{
 "cells": [
  {
   "attachments": {},
   "cell_type": "markdown",
   "metadata": {},
   "source": [
    "### Lesson 6 of CS50 (Unit Tests):"
   ]
  },
  {
   "cell_type": "code",
   "execution_count": 27,
   "metadata": {},
   "outputs": [],
   "source": [
    "# We can import functions from other python scripts as modules to test them:\n",
    "import sys\n",
    "sys.path.append('../CS50-repo/')\n",
    "# path contains calculator.py\n",
    "from calculator import square\n",
    "\n",
    "def main():\n",
    "    test_square()\n",
    "\n",
    "\n",
    "def test_square():\n",
    "    if square(2) != 4:\n",
    "        print(\"2 squared was not 4!\")\n",
    "    if square(3) != 9:\n",
    "        print(\"3 squared was not 9!\")\n",
    "\n",
    "\n",
    "if __name__ == \"__main__\":\n",
    "    main()"
   ]
  }
 ],
 "metadata": {
  "kernelspec": {
   "display_name": "Python 3",
   "language": "python",
   "name": "python3"
  },
  "language_info": {
   "codemirror_mode": {
    "name": "ipython",
    "version": 3
   },
   "file_extension": ".py",
   "mimetype": "text/x-python",
   "name": "python",
   "nbconvert_exporter": "python",
   "pygments_lexer": "ipython3",
   "version": "3.11.1"
  },
  "orig_nbformat": 4,
  "vscode": {
   "interpreter": {
    "hash": "a0f39f3b23881101a7bcfb8fc19198c94cdcd5b458a2d2413418fdd1409f7093"
   }
  }
 },
 "nbformat": 4,
 "nbformat_minor": 2
}
