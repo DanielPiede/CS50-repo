{
 "cells": [
  {
   "attachments": {},
   "cell_type": "markdown",
   "metadata": {},
   "source": [
    "### Lesson 3 of CS50 (Loops)"
   ]
  },
  {
   "cell_type": "code",
   "execution_count": 4,
   "metadata": {},
   "outputs": [
    {
     "name": "stdout",
     "output_type": "stream",
     "text": [
      "0\n",
      "1\n",
      "2\n"
     ]
    }
   ],
   "source": [
    "# Using while loop with incremental variable i:\n",
    "i = 0\n",
    "while i < 3:\n",
    "    print(i)\n",
    "    i += 1"
   ]
  },
  {
   "cell_type": "code",
   "execution_count": 9,
   "metadata": {},
   "outputs": [
    {
     "name": "stdout",
     "output_type": "stream",
     "text": [
      "0\n",
      "1\n",
      "2\n"
     ]
    }
   ],
   "source": [
    "# Using a for loop with a variable _:\n",
    "for _ in range(3):\n",
    "    print(_)"
   ]
  },
  {
   "cell_type": "code",
   "execution_count": 11,
   "metadata": {},
   "outputs": [
    {
     "name": "stdout",
     "output_type": "stream",
     "text": [
      "meow\n",
      "meow\n",
      "meow\n"
     ]
    }
   ],
   "source": [
    "# Make it easierby using multiplication and modification of end parameter:\n",
    "print('meow\\n' * 3, end='')"
   ]
  },
  {
   "cell_type": "code",
   "execution_count": 15,
   "metadata": {},
   "outputs": [
    {
     "name": "stdout",
     "output_type": "stream",
     "text": [
      "correct number\n"
     ]
    }
   ],
   "source": [
    "# Infinite loop as long input is not between 1 and 10:\n",
    "while True:\n",
    "    if 1 <= int(input(\"Type number bigger between 1 and 10: \")) <= 10:\n",
    "        break\n",
    "print(\"correct number\")"
   ]
  },
  {
   "cell_type": "code",
   "execution_count": 21,
   "metadata": {},
   "outputs": [
    {
     "name": "stdout",
     "output_type": "stream",
     "text": [
      "meow\n",
      "meow\n",
      "meow\n"
     ]
    }
   ],
   "source": [
    "# Define a main function in which we call the meow function:\n",
    "def main():\n",
    "    meow(get_number())\n",
    "    \n",
    "# Define a meow function which prints meow for given n:\n",
    "def meow(n):\n",
    "    for _ in range(n):\n",
    "        print('meow')\n",
    "        \n",
    "# Define a function which takes the n from the user:\n",
    "def get_number():\n",
    "    while True:\n",
    "        n = int(input('What is the number of repetitions? '))\n",
    "        if n > 0:\n",
    "            break\n",
    "    return(n)\n",
    "\n",
    "main()"
   ]
  },
  {
   "cell_type": "code",
   "execution_count": 37,
   "metadata": {},
   "outputs": [
    {
     "name": "stdout",
     "output_type": "stream",
     "text": [
      "['Hermione', 'Ron', 'Harry']\n",
      "Rank 1 : Hermione\n",
      "Rank 2 : Ron\n",
      "Rank 3 : Harry\n",
      "Hermione\n",
      "Ron\n",
      "Harry\n"
     ]
    }
   ],
   "source": [
    "# Lists and how to access the data:\n",
    "students = ['Hermione', 'Ron','Harry']\n",
    "print(students[:])\n",
    "\n",
    "# Accessing them using indexing in for loops: \n",
    "for i in range(len(students)):\n",
    "    print('Rank', i + 1,':', students[i])\n",
    "    \n",
    "# Going through the students each at a time:\n",
    "for student in students:\n",
    "    print(student)"
   ]
  },
  {
   "cell_type": "code",
   "execution_count": 49,
   "metadata": {},
   "outputs": [
    {
     "name": "stdout",
     "output_type": "stream",
     "text": [
      "Harry House: Gryffindor\n",
      "Ron House: Gryffindor\n",
      "Hermione House: Gryffindor\n",
      "Draco House: Slytherin\n"
     ]
    }
   ],
   "source": [
    "# Dictionaries to associate one value with another:\n",
    "students = {\n",
    "    'Harry':'Gryffindor',\n",
    "    'Ron':'Gryffindor',\n",
    "    'Hermione':'Gryffindor',\n",
    "    'Draco':'Slytherin'\n",
    "    }\n",
    "\n",
    "# When iterating through a dictionary the keys are the output:\n",
    "for student in students:\n",
    "    print(student, 'House:' , students[student])"
   ]
  },
  {
   "cell_type": "code",
   "execution_count": 56,
   "metadata": {},
   "outputs": [
    {
     "name": "stdout",
     "output_type": "stream",
     "text": [
      "Hermione, Gryffindor, Otter\n",
      "Harry, Gryffindor, Stag\n",
      "Ron, Gryffindor, Jack Russell terrier\n",
      "Draco, Slytherin, None\n"
     ]
    }
   ],
   "source": [
    "# Creating a list of dictionaries:\n",
    "students = [\n",
    "    {'name':'Hermione','house':'Gryffindor', 'patronus':'Otter'},\n",
    "    {'name': 'Harry','house':'Gryffindor', 'patronus':'Stag'},\n",
    "    {'name': 'Ron','house':'Gryffindor', 'patronus':'Jack Russell terrier'},\n",
    "    {'name': 'Draco','house':'Slytherin', 'patronus': None}\n",
    "]\n",
    "# Iterating through the list and give values for each of the\n",
    "for student in students:\n",
    "    print(student['name'], student['house'], student['patronus'], sep=', ')\n"
   ]
  },
  {
   "cell_type": "code",
   "execution_count": 70,
   "metadata": {},
   "outputs": [
    {
     "name": "stdout",
     "output_type": "stream",
     "text": [
      "######################\n",
      "######################\n",
      "######################\n",
      "######################\n",
      " \n",
      "######################\n",
      "######################\n",
      "######################\n",
      "######################\n",
      " \n"
     ]
    }
   ],
   "source": [
    "# Nested loops:\n",
    "# Define a main() function:\n",
    "def main():\n",
    "    print_world(2,22,4)\n",
    "\n",
    "# Define a block builder function using nested loops:\n",
    "def print_world(n, width, height):\n",
    "    for i in range(n):\n",
    "        for j in range(height):\n",
    "            print('#'*width)\n",
    "        print(' ')\n",
    "\n",
    "main()\n",
    "    "
   ]
  }
 ],
 "metadata": {
  "kernelspec": {
   "display_name": "Python 3",
   "language": "python",
   "name": "python3"
  },
  "language_info": {
   "codemirror_mode": {
    "name": "ipython",
    "version": 3
   },
   "file_extension": ".py",
   "mimetype": "text/x-python",
   "name": "python",
   "nbconvert_exporter": "python",
   "pygments_lexer": "ipython3",
   "version": "3.11.1"
  },
  "orig_nbformat": 4,
  "vscode": {
   "interpreter": {
    "hash": "a0f39f3b23881101a7bcfb8fc19198c94cdcd5b458a2d2413418fdd1409f7093"
   }
  }
 },
 "nbformat": 4,
 "nbformat_minor": 2
}
