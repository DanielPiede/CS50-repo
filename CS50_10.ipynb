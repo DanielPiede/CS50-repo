{
 "cells": [
  {
   "attachments": {},
   "cell_type": "markdown",
   "metadata": {},
   "source": [
    "### Lesson 10 of CS50 (Et Cetera):\n"
   ]
  },
  {
   "attachments": {},
   "cell_type": "markdown",
   "metadata": {},
   "source": [
    "Sets (That are only containing unique values):\n"
   ]
  },
  {
   "cell_type": "code",
   "execution_count": 21,
   "metadata": {},
   "outputs": [
    {
     "data": {
      "text/plain": [
       "{'Gryffindor', 'Ravenclaw', 'Slytherin'}"
      ]
     },
     "execution_count": 21,
     "metadata": {},
     "output_type": "execute_result"
    }
   ],
   "source": [
    "students = [\n",
    "    {\"name\": \"Hermione\", \"house\": \"Gryffindor\"},\n",
    "    {\"name\": \"Harry\", \"house\": \"Gryffindor\"},\n",
    "    {\"name\": \"Ron\", \"house\": \"Gryffindor\"},\n",
    "    {\"name\": \"Draco\", \"house\": \"Slytherin\"},\n",
    "    {\"name\": \"Padma\", \"house\": \"Ravenclaw\"},\n",
    "]\n",
    "\n",
    "houses = set()\n",
    "for student in students:\n",
    "    houses.add(student[\"house\"])\n",
    "houses"
   ]
  },
  {
   "attachments": {},
   "cell_type": "markdown",
   "metadata": {},
   "source": [
    "Global variables:\n",
    "So that the variable is available everywhere in a program:\n"
   ]
  },
  {
   "cell_type": "code",
   "execution_count": 25,
   "metadata": {},
   "outputs": [
    {
     "name": "stdout",
     "output_type": "stream",
     "text": [
      "Balance:  0\n",
      "50\n"
     ]
    }
   ],
   "source": [
    "# In order to access the global variable it needs to be outside, however we cant alter it without the \"global\" keyword:\n",
    "balance = 0\n",
    "\n",
    "\n",
    "def main():\n",
    "    print(\"Balance: \", balance)\n",
    "    deposit(100)\n",
    "    withdraw(50)\n",
    "    print(balance)\n",
    "\n",
    "\n",
    "def deposit(n):\n",
    "    global balance\n",
    "    balance += n\n",
    "\n",
    "\n",
    "def withdraw(n):\n",
    "    global balance\n",
    "    balance -= n\n",
    "\n",
    "\n",
    "if __name__ == \"__main__\":\n",
    "    main()"
   ]
  },
  {
   "attachments": {},
   "cell_type": "markdown",
   "metadata": {},
   "source": [
    "In OOP it is easier to make use of the \"global\" instance variable:\n"
   ]
  },
  {
   "cell_type": "code",
   "execution_count": 37,
   "metadata": {},
   "outputs": [
    {
     "name": "stdout",
     "output_type": "stream",
     "text": [
      "Account Balance: 50\n"
     ]
    }
   ],
   "source": [
    "class Account:\n",
    "    def __init__(self):\n",
    "        self._balance = 0\n",
    "\n",
    "    def __str__(self):\n",
    "        return f\"Account Balance: {self._balance}\"\n",
    "\n",
    "    @property\n",
    "    def balance(self):\n",
    "        return self._balance\n",
    "\n",
    "    def deposit(self, value):\n",
    "        self._balance += value\n",
    "\n",
    "    def withdraw(self, value):\n",
    "        self._balance -= value\n",
    "\n",
    "\n",
    "def main():\n",
    "    account = Account()\n",
    "    account.deposit(100)\n",
    "    account.withdraw(50)\n",
    "    print(account)\n",
    "\n",
    "\n",
    "if __name__ == \"__main__\":\n",
    "    main()"
   ]
  },
  {
   "attachments": {},
   "cell_type": "markdown",
   "metadata": {},
   "source": [
    "Constants:\n"
   ]
  },
  {
   "attachments": {},
   "cell_type": "markdown",
   "metadata": {},
   "source": [
    "In thousands of lines of code, it is not easy to find hardcoded values such as range(3), instead we can make them a constant value which is found easily on top of the file:\n"
   ]
  },
  {
   "cell_type": "code",
   "execution_count": 38,
   "metadata": {},
   "outputs": [
    {
     "name": "stdout",
     "output_type": "stream",
     "text": [
      "Meow\n",
      "Meow\n",
      "Meow\n"
     ]
    }
   ],
   "source": [
    "MEOWS = 3\n",
    "\n",
    "for _ in range(MEOWS):\n",
    "    print(\"Meow\")"
   ]
  },
  {
   "attachments": {},
   "cell_type": "markdown",
   "metadata": {},
   "source": [
    "We can also do that inside a class, howewer Python does not prevent us from changing the constant.\n"
   ]
  },
  {
   "cell_type": "code",
   "execution_count": 41,
   "metadata": {},
   "outputs": [
    {
     "name": "stdout",
     "output_type": "stream",
     "text": [
      "Meow\n",
      "Meow\n",
      "Meow\n"
     ]
    }
   ],
   "source": [
    "class Cat:\n",
    "    MEOWS = 3\n",
    "\n",
    "    def meow(self):\n",
    "        for _ in range(Cat.MEOWS):\n",
    "            print(\"Meow\")\n",
    "\n",
    "\n",
    "def main():\n",
    "    cat = Cat()\n",
    "    cat.meow()\n",
    "\n",
    "\n",
    "if __name__ == \"__main__\":\n",
    "    main()"
   ]
  },
  {
   "attachments": {},
   "cell_type": "markdown",
   "metadata": {},
   "source": [
    "Type hints: We can use mypy to check:\n"
   ]
  },
  {
   "cell_type": "code",
   "execution_count": 43,
   "metadata": {},
   "outputs": [
    {
     "name": "stdout",
     "output_type": "stream",
     "text": [
      "meow\n",
      "meow\n",
      "meow\n"
     ]
    }
   ],
   "source": [
    "# This is a simple example for a type hint:\n",
    "# Python does not, however, enforce the hint:\n",
    "# With the arrow we can also show what the return value will be:\n",
    "def meow(n: int) -> None:\n",
    "    for _ in range(n):\n",
    "        print(\"meow\")\n",
    "\n",
    "\n",
    "# also possible for variables here:\n",
    "number: int = int(input(\"Number: \"))\n",
    "meow(number)"
   ]
  },
  {
   "cell_type": "code",
   "execution_count": 51,
   "metadata": {},
   "outputs": [
    {
     "name": "stdout",
     "output_type": "stream",
     "text": [
      "meow\n",
      "meow\n",
      "meow\n",
      "meow\n",
      "meow\n"
     ]
    }
   ],
   "source": [
    "def meow(n: int) -> str:\n",
    "    return \"meow\\n\" * n\n",
    "\n",
    "\n",
    "# also possible for variables here:\n",
    "number: int = int(input(\"Number: \"))\n",
    "meows: str = meow(number)\n",
    "print(meows, end=\"\")"
   ]
  },
  {
   "attachments": {},
   "cell_type": "markdown",
   "metadata": {},
   "source": [
    "Docstrings:\n"
   ]
  },
  {
   "attachments": {},
   "cell_type": "markdown",
   "metadata": {},
   "source": [
    "It is usual to use \"\"\" \"\"\" for making docstring, we can also add specific documentation on what are the parameters, return values and other\n"
   ]
  },
  {
   "attachments": {},
   "cell_type": "markdown",
   "metadata": {},
   "source": [
    "Using examples in the docstrings, we can also use it to check the code with another tool.\n"
   ]
  },
  {
   "cell_type": "code",
   "execution_count": 52,
   "metadata": {},
   "outputs": [
    {
     "name": "stdout",
     "output_type": "stream",
     "text": [
      "meow\n",
      "meow\n",
      "meow\n",
      "meow\n",
      "meow\n"
     ]
    }
   ],
   "source": [
    "def meow(n: int) -> str:\n",
    "    \"\"\"\n",
    "    This function meows for a number of times, taking an int as input and returning them as a string.\n",
    "\n",
    "    :param n: Number of times to meow\n",
    "    :type n: int\n",
    "    :raises TypeError: If n is not an int\n",
    "    :return: Returns a string of n times, one per line\n",
    "    :rtype: str\n",
    "    \"\"\"\n",
    "    return \"meow\\n\" * n\n",
    "\n",
    "\n",
    "number: int = int(input(\"Number: \"))\n",
    "meows: str = meow(number)\n",
    "print(meows, end=\"\")"
   ]
  },
  {
   "attachments": {},
   "cell_type": "markdown",
   "metadata": {},
   "source": [
    "But if we want to use the program from the command line we also need to give hints on how to use it:\n"
   ]
  },
  {
   "attachments": {},
   "cell_type": "markdown",
   "metadata": {},
   "source": [
    "if we use -n then one dash and one letter. If we ise -- then we use two dashes and words\n"
   ]
  },
  {
   "cell_type": "code",
   "execution_count": null,
   "metadata": {},
   "outputs": [],
   "source": [
    "import sys\n",
    "\n",
    "if len(sys.argv) == 1:\n",
    "    print(\"meow\")\n",
    "elif len(sys.argv) == 3 and sys.argv[1] == \"-1\":\n",
    "    n = int(sys.argv[2])\n",
    "    for _ in range(n):\n",
    "        print(\"meow\")\n",
    "else:\n",
    "    # When running from command line it is good practice to include a hint on how to use the program:\n",
    "    print(\"usage: meows.py\")"
   ]
  },
  {
   "attachments": {},
   "cell_type": "markdown",
   "metadata": {},
   "source": [
    "Argparse:\n"
   ]
  },
  {
   "attachments": {},
   "cell_type": "markdown",
   "metadata": {},
   "source": [
    "It also adds information using the -h argument for help or --help\n"
   ]
  },
  {
   "cell_type": "code",
   "execution_count": null,
   "metadata": {},
   "outputs": [],
   "source": [
    "import argparse\n",
    "\n",
    "parser = argparse.ArgumentParser(description=\"Meow like a cat\")\n",
    "parser.add_argument(\"-n\", default=1, help=\"Number of times to meow\", type=int)\n",
    "args = parser.parse_args()\n",
    "# argparser is used to parse the command line arguments, no matter which order they are in\n",
    "# no need to specify int here, as add argument already specified the int:\n",
    "for _ in range(args.n):\n",
    "    print(\"meow\")"
   ]
  },
  {
   "attachments": {},
   "cell_type": "markdown",
   "metadata": {},
   "source": [
    "Unpacking (list):\n"
   ]
  },
  {
   "cell_type": "code",
   "execution_count": 55,
   "metadata": {},
   "outputs": [
    {
     "name": "stdout",
     "output_type": "stream",
     "text": [
      "50775 Knuts\n"
     ]
    }
   ],
   "source": [
    "def total(galleons, sickles, knuts):\n",
    "    return (galleons * 17 + sickles) * 29 + knuts\n",
    "\n",
    "\n",
    "coins = [100, 50, 25]\n",
    "# We can unpack the list with an asterisk:\n",
    "print(total(*coins), \"Knuts\")"
   ]
  },
  {
   "attachments": {},
   "cell_type": "markdown",
   "metadata": {},
   "source": [
    "Dictionary and unpacking:\n"
   ]
  },
  {
   "cell_type": "code",
   "execution_count": 60,
   "metadata": {},
   "outputs": [
    {
     "name": "stdout",
     "output_type": "stream",
     "text": [
      "50775 Knuts\n"
     ]
    }
   ],
   "source": [
    "def total(galleons, sickles, knuts) -> list:\n",
    "    return (galleons * 17 + sickles) * 29 + knuts\n",
    "\n",
    "\n",
    "coins = {\"galleons\": 100, \"sickles\": 50, \"knuts\": 25}\n",
    "\n",
    "# We can unpack the dict with two asterisks:\n",
    "print(total(**coins), \"Knuts\")"
   ]
  },
  {
   "attachments": {},
   "cell_type": "markdown",
   "metadata": {},
   "source": [
    "\\*args and \\*\\*kwargs\n"
   ]
  },
  {
   "cell_type": "code",
   "execution_count": 3,
   "metadata": {},
   "outputs": [
    {
     "name": "stdout",
     "output_type": "stream",
     "text": [
      "Positional arguments:  {'galleons': 100, 'sickles': 50, 'knuts': 25}\n"
     ]
    }
   ],
   "source": [
    "# We can give many arguments to the function and it works fine using * which takes a tuple, and ** which takes a dictionary:\n",
    "def f(*args, **kwargs):\n",
    "    print(\"Positional arguments: \", kwargs)\n",
    "\n",
    "\n",
    "f(galleons=100, sickles=50, knuts=25)"
   ]
  },
  {
   "attachments": {},
   "cell_type": "markdown",
   "metadata": {},
   "source": [
    "Map:\n"
   ]
  },
  {
   "attachments": {},
   "cell_type": "markdown",
   "metadata": {},
   "source": [
    "Map can map smth to each value in a list\n"
   ]
  },
  {
   "cell_type": "code",
   "execution_count": 12,
   "metadata": {},
   "outputs": [
    {
     "name": "stdout",
     "output_type": "stream",
     "text": [
      "THIS IS CSS0\n"
     ]
    }
   ],
   "source": [
    "def main():\n",
    "    yell(\"This\", \"is\", \"CSS0\")\n",
    "\n",
    "# Solution with map function:\n",
    "def yell(*words):\n",
    "    uppercased = map(str.upper, words)\n",
    "    print(*uppercased)\n",
    "\n",
    "\n",
    "if __name__ == \"__main__\":\n",
    "    main()"
   ]
  },
  {
   "attachments": {},
   "cell_type": "markdown",
   "metadata": {},
   "source": [
    "List Comprehension:"
   ]
  },
  {
   "cell_type": "code",
   "execution_count": 13,
   "metadata": {},
   "outputs": [
    {
     "name": "stdout",
     "output_type": "stream",
     "text": [
      "THIS IS CSS0\n"
     ]
    }
   ],
   "source": [
    "def main():\n",
    "    yell(\"This\", \"is\", \"CSS0\")\n",
    "\n",
    "# Solution with a list comprehension:\n",
    "def yell(*words):\n",
    "    uppercased = [word.upper() for word in words]\n",
    "    print(*uppercased)\n",
    "\n",
    "\n",
    "if __name__ == \"__main__\":\n",
    "    main()"
   ]
  },
  {
   "cell_type": "code",
   "execution_count": 14,
   "metadata": {},
   "outputs": [
    {
     "name": "stdout",
     "output_type": "stream",
     "text": [
      "Harry\n",
      "Hermione\n",
      "Ron\n"
     ]
    }
   ],
   "source": [
    "students = [\n",
    "    {\"name\": \"Hermione\", \"house\": \"Gryffindor\"},\n",
    "    {\"name\": \"Harry\", \"house\": \"Gryffindor\"},\n",
    "    {\"name\": \"Ron\", \"house\": \"Gryffindor\"},\n",
    "    {\"name\": \"Draco\", \"house\": \"Slytherin\"},\n",
    "    {\"name\": \"Padma\", \"house\": \"Ravenclaw\"},\n",
    "]\n",
    "\n",
    "gryffindors = [\n",
    "    student[\"name\"] for student in students if student[\"house\"] == \"Gryffindor\"\n",
    "]\n",
    "\n",
    "for gryffindor in sorted(gryffindors):\n",
    "    print(gryffindor)"
   ]
  },
  {
   "cell_type": "code",
   "execution_count": 16,
   "metadata": {},
   "outputs": [
    {
     "name": "stdout",
     "output_type": "stream",
     "text": [
      "Harry\n",
      "Hermione\n",
      "Ron\n"
     ]
    }
   ],
   "source": [
    "students = [\n",
    "    {\"name\": \"Hermione\", \"house\": \"Gryffindor\"},\n",
    "    {\"name\": \"Harry\", \"house\": \"Gryffindor\"},\n",
    "    {\"name\": \"Ron\", \"house\": \"Gryffindor\"},\n",
    "    {\"name\": \"Draco\", \"house\": \"Slytherin\"},\n",
    "    {\"name\": \"Padma\", \"house\": \"Ravenclaw\"},\n",
    "]\n",
    "\n",
    "\n",
    "def is_gryffindor(s):\n",
    "    return s[\"house\"] == \"Gryffindor\"\n",
    "\n",
    "\n",
    "# Filter takes a first argument that yields true or false, and then adds only arguments when true.\n",
    "gryffindors = filter(is_gryffindor, students)\n",
    "\n",
    "# Sorting the filter object by name using a lambda function\n",
    "for gryffindor in sorted(gryffindors, key=lambda s: s[\"name\"]):\n",
    "    print(gryffindor[\"name\"])"
   ]
  },
  {
   "attachments": {},
   "cell_type": "markdown",
   "metadata": {},
   "source": [
    "Dictionary Comprehension:"
   ]
  },
  {
   "cell_type": "code",
   "execution_count": 22,
   "metadata": {},
   "outputs": [
    {
     "name": "stdout",
     "output_type": "stream",
     "text": [
      "{'Hermione': 'Gryffindor', 'Harry': 'Gryffindor', 'Ron': 'Gryffindor'}\n"
     ]
    }
   ],
   "source": [
    "students = [\"Hermione\", \"Harry\", \"Ron\"]\n",
    "# Solution with list comprehension:\n",
    "gryffindors = [{\"Name\": student, \"House\": \"Gryffindor\"} for student in students]\n",
    "# solution with dict comprehension\n",
    "gryffindors = {student: \"Gryffindor\" for student in students}\n",
    "print(gryffindors)"
   ]
  },
  {
   "attachments": {},
   "cell_type": "markdown",
   "metadata": {},
   "source": [
    "Enumerate:"
   ]
  },
  {
   "cell_type": "code",
   "execution_count": 31,
   "metadata": {},
   "outputs": [
    {
     "name": "stdout",
     "output_type": "stream",
     "text": [
      "1 Hermione\n",
      "2 Harry\n",
      "3 Ron\n"
     ]
    }
   ],
   "source": [
    "students = [\"Hermione\", \"Harry\", \"Ron\"]\n",
    "# Enumerate students, meaning that students will be matched with a count to complement a pair:\n",
    "for i, student in enumerate(students):\n",
    "    print(i + 1, student)"
   ]
  },
  {
   "attachments": {},
   "cell_type": "markdown",
   "metadata": {},
   "source": [
    "Generators (yield):"
   ]
  },
  {
   "cell_type": "code",
   "execution_count": 43,
   "metadata": {},
   "outputs": [
    {
     "name": "stdout",
     "output_type": "stream",
     "text": [
      "\n",
      "sheep\n",
      "sheepsheep\n",
      "sheepsheepsheep\n",
      "sheepsheepsheepsheep\n",
      "sheepsheepsheepsheepsheep\n"
     ]
    }
   ],
   "source": [
    "def main():\n",
    "    n = int(input(\"Whats N? \"))\n",
    "    for s in sheep(n):\n",
    "        print(s)\n",
    "\n",
    "# Using yield, we can get back data step by step. This is useful for generation of large data:\n",
    "def sheep(n: int) -> str:\n",
    "    for i in range(n):\n",
    "        # yield is returning and iterator\n",
    "        yield \"sheep\" * i\n",
    "\n",
    "\n",
    "if __name__ == \"__main__\":\n",
    "    main()"
   ]
  },
  {
   "attachments": {},
   "cell_type": "markdown",
   "metadata": {},
   "source": [
    "Iterator:"
   ]
  },
  {
   "cell_type": "code",
   "execution_count": 51,
   "metadata": {},
   "outputs": [
    {
     "name": "stdout",
     "output_type": "stream",
     "text": [
      "7\n",
      "4\n",
      "0\n"
     ]
    }
   ],
   "source": [
    "my_list = [7,4,0]\n",
    "iterator = iter(my_list)\n",
    "print(next(iterator)) # prints 4\n",
    "print(next(iterator)) # prints 7\n",
    "print(next(iterator)) # prints 0"
   ]
  }
 ],
 "metadata": {
  "kernelspec": {
   "display_name": "Python 3",
   "language": "python",
   "name": "python3"
  },
  "language_info": {
   "codemirror_mode": {
    "name": "ipython",
    "version": 3
   },
   "file_extension": ".py",
   "mimetype": "text/x-python",
   "name": "python",
   "nbconvert_exporter": "python",
   "pygments_lexer": "ipython3",
   "version": "3.11.1 (tags/v3.11.1:a7a450f, Dec  6 2022, 19:58:39) [MSC v.1934 64 bit (AMD64)]"
  },
  "orig_nbformat": 4,
  "vscode": {
   "interpreter": {
    "hash": "a0f39f3b23881101a7bcfb8fc19198c94cdcd5b458a2d2413418fdd1409f7093"
   }
  }
 },
 "nbformat": 4,
 "nbformat_minor": 2
}
