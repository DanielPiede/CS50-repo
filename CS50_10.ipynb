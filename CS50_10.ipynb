{
 "cells": [
  {
   "attachments": {},
   "cell_type": "markdown",
   "metadata": {},
   "source": [
    "### Lesson 10 of CS50 (Et Cetera):"
   ]
  },
  {
   "attachments": {},
   "cell_type": "markdown",
   "metadata": {},
   "source": [
    "Sets (That are only containing unique values):"
   ]
  },
  {
   "cell_type": "code",
   "execution_count": 21,
   "metadata": {},
   "outputs": [
    {
     "data": {
      "text/plain": [
       "{'Gryffindor', 'Ravenclaw', 'Slytherin'}"
      ]
     },
     "execution_count": 21,
     "metadata": {},
     "output_type": "execute_result"
    }
   ],
   "source": [
    "students = [\n",
    "    {\"name\": \"Hermione\", \"house\": \"Gryffindor\"},\n",
    "    {\"name\": \"Harry\", \"house\": \"Gryffindor\"},\n",
    "    {\"name\": \"Ron\", \"house\": \"Gryffindor\"},\n",
    "    {\"name\": \"Draco\", \"house\": \"Slytherin\"},\n",
    "    {\"name\": \"Padma\", \"house\": \"Ravenclaw\"},\n",
    "]\n",
    "\n",
    "houses = set()\n",
    "for student in students:\n",
    "    houses.add(student[\"house\"])\n",
    "houses"
   ]
  },
  {
   "attachments": {},
   "cell_type": "markdown",
   "metadata": {},
   "source": [
    "Global variables:\n",
    "So that the variable is available everywhere in a program:"
   ]
  },
  {
   "cell_type": "code",
   "execution_count": 25,
   "metadata": {},
   "outputs": [
    {
     "name": "stdout",
     "output_type": "stream",
     "text": [
      "Balance:  0\n",
      "50\n"
     ]
    }
   ],
   "source": [
    "# In order to access the global variable it needs to be outside, however we cant alter it without the \"global\" keyword:\n",
    "balance = 0\n",
    "\n",
    "\n",
    "def main():\n",
    "    print(\"Balance: \", balance)\n",
    "    deposit(100)\n",
    "    withdraw(50)\n",
    "    print(balance)\n",
    "\n",
    "\n",
    "def deposit(n):\n",
    "    global balance\n",
    "    balance += n\n",
    "\n",
    "\n",
    "def withdraw(n):\n",
    "    global balance\n",
    "    balance -= n\n",
    "\n",
    "\n",
    "if __name__ == \"__main__\":\n",
    "    main()"
   ]
  },
  {
   "attachments": {},
   "cell_type": "markdown",
   "metadata": {},
   "source": [
    "In OOP it is easier to make use of the \"global\" instance variable:"
   ]
  },
  {
   "cell_type": "code",
   "execution_count": 37,
   "metadata": {},
   "outputs": [
    {
     "name": "stdout",
     "output_type": "stream",
     "text": [
      "Account Balance: 50\n"
     ]
    }
   ],
   "source": [
    "class Account:\n",
    "    def __init__(self):\n",
    "        self._balance = 0\n",
    "    \n",
    "    def __str__(self):\n",
    "        return (f\"Account Balance: {self._balance}\")\n",
    "    \n",
    "    @property\n",
    "    def balance(self):\n",
    "        return self._balance\n",
    "    \n",
    "    def deposit(self, value):\n",
    "        self._balance += value\n",
    "    \n",
    "    def withdraw(self, value):\n",
    "        self._balance -= value\n",
    "\n",
    "def main():\n",
    "    account = Account()\n",
    "    account.deposit(100)\n",
    "    account.withdraw(50)\n",
    "    print(account)\n",
    "\n",
    "if __name__ == \"__main__\":\n",
    "    main()"
   ]
  },
  {
   "attachments": {},
   "cell_type": "markdown",
   "metadata": {},
   "source": [
    "Constants:"
   ]
  },
  {
   "attachments": {},
   "cell_type": "markdown",
   "metadata": {},
   "source": [
    "In thousands of lines of code, it is not easy to find hardcoded values such as range(3), instead we can make them a constant value which is found easily on top of the file:"
   ]
  },
  {
   "cell_type": "code",
   "execution_count": 38,
   "metadata": {},
   "outputs": [
    {
     "name": "stdout",
     "output_type": "stream",
     "text": [
      "Meow\n",
      "Meow\n",
      "Meow\n"
     ]
    }
   ],
   "source": [
    "MEOWS = 3\n",
    "\n",
    "for _ in range(MEOWS):\n",
    "    print(\"Meow\")"
   ]
  },
  {
   "attachments": {},
   "cell_type": "markdown",
   "metadata": {},
   "source": [
    "We can also do that inside a class, howewer Python does not prevent us from changing the constant."
   ]
  },
  {
   "cell_type": "code",
   "execution_count": 41,
   "metadata": {},
   "outputs": [
    {
     "name": "stdout",
     "output_type": "stream",
     "text": [
      "Meow\n",
      "Meow\n",
      "Meow\n"
     ]
    }
   ],
   "source": [
    "class Cat:\n",
    "    MEOWS = 3\n",
    "    \n",
    "    def meow(self):\n",
    "        for _ in range(Cat.MEOWS):\n",
    "            print(\"Meow\")\n",
    "\n",
    "def main():\n",
    "    cat = Cat()\n",
    "    cat.meow()\n",
    "\n",
    "if __name__ == \"__main__\":\n",
    "    main()"
   ]
  },
  {
   "attachments": {},
   "cell_type": "markdown",
   "metadata": {},
   "source": [
    "Type hints: We can use mypy to check:"
   ]
  },
  {
   "cell_type": "code",
   "execution_count": 43,
   "metadata": {},
   "outputs": [
    {
     "name": "stdout",
     "output_type": "stream",
     "text": [
      "meow\n",
      "meow\n",
      "meow\n"
     ]
    }
   ],
   "source": [
    "# This is a simple example for a type hint:\n",
    "# Python does not, however, enforce the hint:\n",
    "# With the arrow we can also show what the return value will be:\n",
    "def meow(n: int) -> None:\n",
    "    for _ in range(n):\n",
    "        print(\"meow\")\n",
    "# also possible for variables here:\n",
    "number: int = int(input(\"Number: \"))\n",
    "meow(number)"
   ]
  },
  {
   "cell_type": "code",
   "execution_count": 51,
   "metadata": {},
   "outputs": [
    {
     "name": "stdout",
     "output_type": "stream",
     "text": [
      "meow\n",
      "meow\n",
      "meow\n",
      "meow\n",
      "meow\n"
     ]
    }
   ],
   "source": [
    "def meow(n: int) -> str:\n",
    "    return \"meow\\n\" * n\n",
    "\n",
    "\n",
    "# also possible for variables here:\n",
    "number: int = int(input(\"Number: \"))\n",
    "meows: str = meow(number)\n",
    "print(meows, end=\"\")"
   ]
  },
  {
   "attachments": {},
   "cell_type": "markdown",
   "metadata": {},
   "source": [
    "Docstrings:"
   ]
  },
  {
   "attachments": {},
   "cell_type": "markdown",
   "metadata": {},
   "source": [
    "It is usual to use \"\"\" \"\"\" for making docstring, we can also add specific documentation on what are the parameters, return values and other"
   ]
  },
  {
   "attachments": {},
   "cell_type": "markdown",
   "metadata": {},
   "source": [
    "Using examples in the docstrings, we can also use it to check the code with another tool."
   ]
  },
  {
   "cell_type": "code",
   "execution_count": 52,
   "metadata": {},
   "outputs": [
    {
     "name": "stdout",
     "output_type": "stream",
     "text": [
      "meow\n",
      "meow\n",
      "meow\n",
      "meow\n",
      "meow\n"
     ]
    }
   ],
   "source": [
    "def meow(n: int) -> str:\n",
    "    \"\"\"\n",
    "    This function meows for a number of times, taking an int as input and returning them as a string.\n",
    "    \n",
    "    :param n: Number of times to meow\n",
    "    :type n: int\n",
    "    :raises TypeError: If n is not an int\n",
    "    :return: Returns a string of n times, one per line\n",
    "    :rtype: str\n",
    "    \"\"\"\n",
    "    return \"meow\\n\" * n\n",
    "\n",
    "number: int = int(input(\"Number: \"))\n",
    "meows: str = meow(number)\n",
    "print(meows, end=\"\")"
   ]
  },
  {
   "attachments": {},
   "cell_type": "markdown",
   "metadata": {},
   "source": [
    "But if we want to use the program from the command line we also need to give hints on how to use it:"
   ]
  },
  {
   "attachments": {},
   "cell_type": "markdown",
   "metadata": {},
   "source": [
    "if we use -n then one dash and one letter. If we ise -- then we use two dashes and words"
   ]
  },
  {
   "cell_type": "code",
   "execution_count": null,
   "metadata": {},
   "outputs": [],
   "source": [
    "import sys\n",
    "\n",
    "if len(sys.argv) == 1:\n",
    "    print(\"meow\")\n",
    "elif len(sys.argv) == 3 and sys.argv[1] == \"-1\":\n",
    "    n = int(sys.argv[2])\n",
    "    for _ in range(n):\n",
    "        print(\"meow\")\n",
    "else:\n",
    "    # When running from command line it is good practice to include a hint on how to use the program:\n",
    "    print(\"usage: meows.py\")"
   ]
  },
  {
   "attachments": {},
   "cell_type": "markdown",
   "metadata": {},
   "source": [
    "Argparse:"
   ]
  },
  {
   "attachments": {},
   "cell_type": "markdown",
   "metadata": {},
   "source": [
    "It also adds information using the -h argument for help or --help"
   ]
  },
  {
   "cell_type": "code",
   "execution_count": null,
   "metadata": {},
   "outputs": [],
   "source": [
    "import argparse\n",
    "\n",
    "parser = argparse.ArgumentParser(description=\"Meow like a cat\")\n",
    "parser.add_argument(\"-n\",default= 1, help=\"Number of times to meow\", type=int)\n",
    "args = parser.parse_args()\n",
    "# argparser is used to parse the command line arguments, no matter which order they are in\n",
    "# no need to specify int here, as add argument already specified the int:\n",
    "for _ in range(args.n):\n",
    "    print(\"meow\")"
   ]
  },
  {
   "attachments": {},
   "cell_type": "markdown",
   "metadata": {},
   "source": [
    "Unpacking (list):"
   ]
  },
  {
   "cell_type": "code",
   "execution_count": 55,
   "metadata": {},
   "outputs": [
    {
     "name": "stdout",
     "output_type": "stream",
     "text": [
      "50775 Knuts\n"
     ]
    }
   ],
   "source": [
    "def total(galleons, sickles, knuts):\n",
    "    return (galleons * 17 + sickles) * 29 + knuts\n",
    "\n",
    "\n",
    "coins = [100, 50, 25]\n",
    "# We can unpack the list with an asterisk:\n",
    "print(total(*coins), \"Knuts\")"
   ]
  },
  {
   "attachments": {},
   "cell_type": "markdown",
   "metadata": {},
   "source": [
    "Dictionary and unpacking:"
   ]
  },
  {
   "cell_type": "code",
   "execution_count": 60,
   "metadata": {},
   "outputs": [
    {
     "name": "stdout",
     "output_type": "stream",
     "text": [
      "50775 Knuts\n"
     ]
    }
   ],
   "source": [
    "def total(galleons, sickles, knuts) -> list:\n",
    "    return (galleons * 17 + sickles) * 29 + knuts\n",
    "\n",
    "coins = {\"galleons\":100,\"sickles\":50,\"knuts\":25}\n",
    "\n",
    "# We can unpack the dict with two asterisks:\n",
    "print(total(**coins), \"Knuts\")"
   ]
  },
  {
   "cell_type": "code",
   "execution_count": null,
   "metadata": {},
   "outputs": [],
   "source": []
  }
 ],
 "metadata": {
  "kernelspec": {
   "display_name": "Python 3",
   "language": "python",
   "name": "python3"
  },
  "language_info": {
   "codemirror_mode": {
    "name": "ipython",
    "version": 3
   },
   "file_extension": ".py",
   "mimetype": "text/x-python",
   "name": "python",
   "nbconvert_exporter": "python",
   "pygments_lexer": "ipython3",
   "version": "3.11.1 (tags/v3.11.1:a7a450f, Dec  6 2022, 19:58:39) [MSC v.1934 64 bit (AMD64)]"
  },
  "orig_nbformat": 4,
  "vscode": {
   "interpreter": {
    "hash": "a0f39f3b23881101a7bcfb8fc19198c94cdcd5b458a2d2413418fdd1409f7093"
   }
  }
 },
 "nbformat": 4,
 "nbformat_minor": 2
}
