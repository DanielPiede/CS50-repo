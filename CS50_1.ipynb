{
 "cells": [
  {
   "attachments": {},
   "cell_type": "markdown",
   "metadata": {},
   "source": [
    "### Lesson 1 of CS50"
   ]
  },
  {
   "cell_type": "code",
   "execution_count": 4,
   "metadata": {},
   "outputs": [
    {
     "name": "stdout",
     "output_type": "stream",
     "text": [
      "Hello, Daniel\n"
     ]
    }
   ],
   "source": [
    "# Ask user for their name\n",
    "name = input('What is your name?').strip().title()\n",
    "\n",
    "# Say hello to the user\n",
    "print(f'Hello, {name}')"
   ]
  },
  {
   "cell_type": "code",
   "execution_count": 7,
   "metadata": {},
   "outputs": [
    {
     "name": "stdout",
     "output_type": "stream",
     "text": [
      "5\n"
     ]
    }
   ],
   "source": [
    "# Inputting the parameters and casting them to integers\n",
    "x = int(input('What is x?'))\n",
    "y = int(input('What is y?'))\n",
    "\n",
    "# printing the calculated result\n",
    "print(x + y) "
   ]
  },
  {
   "cell_type": "code",
   "execution_count": 25,
   "metadata": {},
   "outputs": [
    {
     "name": "stdout",
     "output_type": "stream",
     "text": [
      "0.55\n",
      "0.55\n"
     ]
    }
   ],
   "source": [
    "# Inputting the parameters and casting them to floating point\n",
    "x = float(input('What is x?'))\n",
    "y = float(input('What is y?'))\n",
    "\n",
    "# Printing the calculated result and rounding it to 2 decimal places\n",
    "print(round(x / y, 2)) \n",
    "\n",
    "# Printing the calculated result without rounding function but with f-string formatting\n",
    "print(f'{x / y:.2f}')"
   ]
  },
  {
   "cell_type": "code",
   "execution_count": 5,
   "metadata": {},
   "outputs": [
    {
     "name": "stdout",
     "output_type": "stream",
     "text": [
      "Hello, Daniel\n",
      "Hello, World\n"
     ]
    }
   ],
   "source": [
    "# Defining the main function\n",
    "def main():\n",
    "    name = input('What is your name? ').strip().title()\n",
    "    hello(name)\n",
    "    hello()\n",
    "    \n",
    "# Defining the hello function\n",
    "def hello(to=\"World\"):\n",
    "    print(f'Hello, {to}')\n",
    "\n",
    "# Calling the main function\n",
    "main()"
   ]
  },
  {
   "cell_type": "code",
   "execution_count": 9,
   "metadata": {},
   "outputs": [
    {
     "name": "stdout",
     "output_type": "stream",
     "text": [
      "Your number squared is: 4\n"
     ]
    }
   ],
   "source": [
    "# Other version of the calculator that returns instead of printing\n",
    "def main():\n",
    "    x = int(input('Enter a number: '))\n",
    "    print('Your number squared is:', square(x))\n",
    "\n",
    "# Defining my own square function \n",
    "def square(n):\n",
    "    return pow(n, 2)\n",
    "\n",
    "# Calling the main function\n",
    "main()"
   ]
  }
 ],
 "metadata": {
  "kernelspec": {
   "display_name": "Python 3",
   "language": "python",
   "name": "python3"
  },
  "language_info": {
   "codemirror_mode": {
    "name": "ipython",
    "version": 3
   },
   "file_extension": ".py",
   "mimetype": "text/x-python",
   "name": "python",
   "nbconvert_exporter": "python",
   "pygments_lexer": "ipython3",
   "version": "3.10.6"
  },
  "orig_nbformat": 4,
  "vscode": {
   "interpreter": {
    "hash": "5c6602a72d0e8d49aab0310858f43caf230d849810d364275003297834f1716f"
   }
  }
 },
 "nbformat": 4,
 "nbformat_minor": 2
}
