{
 "cells": [
  {
   "cell_type": "code",
   "execution_count": 4,
   "metadata": {},
   "outputs": [
    {
     "name": "stdout",
     "output_type": "stream",
     "text": [
      "Hello, Daniel\n"
     ]
    }
   ],
   "source": [
    "#  Ask user for their name\n",
    "name = input('What is your name?').strip().title()\n",
    "\n",
    "# Say hello to the user\n",
    "print(f'Hello, {name}')"
   ]
  }
 ],
 "metadata": {
  "kernelspec": {
   "display_name": "Python 3",
   "language": "python",
   "name": "python3"
  },
  "language_info": {
   "codemirror_mode": {
    "name": "ipython",
    "version": 3
   },
   "file_extension": ".py",
   "mimetype": "text/x-python",
   "name": "python",
   "nbconvert_exporter": "python",
   "pygments_lexer": "ipython3",
   "version": "3.10.6"
  },
  "orig_nbformat": 4,
  "vscode": {
   "interpreter": {
    "hash": "5c6602a72d0e8d49aab0310858f43caf230d849810d364275003297834f1716f"
   }
  }
 },
 "nbformat": 4,
 "nbformat_minor": 2
}
