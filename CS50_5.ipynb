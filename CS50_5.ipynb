{
 "cells": [
  {
   "cell_type": "markdown",
   "metadata": {},
   "source": [
    "### Lesson 5 of CS50 (Libraries):"
   ]
  },
  {
   "cell_type": "code",
   "execution_count": 2,
   "metadata": {},
   "outputs": [],
   "source": [
    "# Imports: random library\n",
    "import random"
   ]
  },
  {
   "cell_type": "code",
   "execution_count": 12,
   "metadata": {},
   "outputs": [
    {
     "data": {
      "text/plain": [
       "'tails'"
      ]
     },
     "execution_count": 12,
     "metadata": {},
     "output_type": "execute_result"
    }
   ],
   "source": [
    "# Use choice to flip a coin:\n",
    "coin = random.choice(['heads','tails'])\n",
    "coin"
   ]
  },
  {
   "cell_type": "code",
   "execution_count": 13,
   "metadata": {},
   "outputs": [
    {
     "data": {
      "text/plain": [
       "'heads'"
      ]
     },
     "execution_count": 13,
     "metadata": {},
     "output_type": "execute_result"
    }
   ],
   "source": [
    "# Alternatively, only import the choice function:\n",
    "from random import choice\n",
    "coin = choice(['heads','tails'])\n",
    "coin"
   ]
  },
  {
   "cell_type": "code",
   "execution_count": 25,
   "metadata": {},
   "outputs": [
    {
     "data": {
      "text/plain": [
       "9"
      ]
     },
     "execution_count": 25,
     "metadata": {},
     "output_type": "execute_result"
    }
   ],
   "source": [
    "# Use randint in a range:\n",
    "number = random.randint(1,10)\n",
    "number"
   ]
  },
  {
   "cell_type": "code",
   "execution_count": 41,
   "metadata": {},
   "outputs": [
    {
     "name": "stdout",
     "output_type": "stream",
     "text": [
      "Jack\n",
      "King\n",
      "Queen\n"
     ]
    }
   ],
   "source": [
    "# Use shuffle to change the order in a list of cards:\n",
    "cards = ['Jack','King', 'Queen']\n",
    "\n",
    "random.shuffle(cards)\n",
    "\n",
    "for card in cards:\n",
    "    print(card)"
   ]
  },
  {
   "cell_type": "code",
   "execution_count": 42,
   "metadata": {},
   "outputs": [
    {
     "data": {
      "text/plain": [
       "95"
      ]
     },
     "execution_count": 42,
     "metadata": {},
     "output_type": "execute_result"
    }
   ],
   "source": [
    "# Import statistics:\n",
    "import statistics as stats\n",
    "# Use mean to get the average:\n",
    "stats.mean([100, 90])"
   ]
  },
  {
   "cell_type": "code",
   "execution_count": 44,
   "metadata": {},
   "outputs": [
    {
     "name": "stdout",
     "output_type": "stream",
     "text": [
      "Hello, my name is --ip=127.0.0.1\n"
     ]
    }
   ],
   "source": [
    "# Use sys to access command line arguments:\n",
    "import sys\n",
    "# argv gets access to the second argument, as the first argument contains the name of the program. (Does not work in Jupyter Notebooks)\n",
    "try:    \n",
    "    print('Hello, my name is', sys.argv[1]) \n",
    "except IndexError:\n",
    "    sys.exit('Wrong amount of arguments')\n",
    "    pass"
   ]
  },
  {
   "cell_type": "code",
   "execution_count": 45,
   "metadata": {},
   "outputs": [
    {
     "name": "stdout",
     "output_type": "stream",
     "text": [
      "Daniel\n",
      "Martinez\n",
      "Gustavo\n"
     ]
    }
   ],
   "source": [
    "# argv is iterable, therefore it would be possible to access all arguments. However, we need to acces a subset of the arguments (slicing)\n",
    "\n",
    "argv = ['ProgrammName.exe','Daniel', 'Martinez', 'Gustavo']\n",
    "\n",
    "for arg in argv[1:]:\n",
    "    print(arg)"
   ]
  },
  {
   "cell_type": "code",
   "execution_count": null,
   "metadata": {},
   "outputs": [],
   "source": [
    "# Python itself has modules, third parties have packages:\n",
    "# One website is called pypi.org\n",
    "# We can access that using pip install (PackageManager)\n",
    "%pip install cowsay"
   ]
  },
  {
   "cell_type": "code",
   "execution_count": null,
   "metadata": {},
   "outputs": [],
   "source": [
    "# Import cowsay and sys:\n",
    "import cowsay\n",
    "import sys\n",
    "# A cow will say my name in reference to an programm of old. ASCII Art.\n",
    "if len(sys.argv) == 11:\n",
    "    cowsay.cow('Hello, Daniel')\n"
   ]
  },
  {
   "cell_type": "code",
   "execution_count": null,
   "metadata": {},
   "outputs": [],
   "source": [
    "# Usage of APIs (Application Programming Interfaces):\n",
    "# Using the requests library for this:\n",
    "%pip install requests"
   ]
  },
  {
   "cell_type": "code",
   "execution_count": 14,
   "metadata": {},
   "outputs": [
    {
     "name": "stdout",
     "output_type": "stream",
     "text": [
      "Buddy Holly\n"
     ]
    }
   ],
   "source": [
    "# Using the itunes API from Apple:\n",
    "\n",
    "# Additionally using the JSON library to get into the information needed:\n",
    "import requests\n",
    "import json\n",
    "\n",
    "\n",
    "def main():\n",
    "    get_data()\n",
    "    \n",
    "def get_data():\n",
    "    # Get input for the artist from the user:\n",
    "    artist = input(\"Which Artist would you like to search for?\")\n",
    "    \n",
    "    # Get input for the number of results from the user:\n",
    "    limit = input(\"How many results would you like?\")\n",
    "    \n",
    "    # Construct the link for accessing the API of Itunes:\n",
    "    url = 'https://itunes.apple.com/search?entity=song&limit='+ limit +'&term='+ artist\n",
    "    \n",
    "    # Get the respoonse data from itunes with the constructed URL:\n",
    "    response = requests.get(url)\n",
    "    \n",
    "    # Assign the data to a variable o (JSON object)\n",
    "    o = response.json()\n",
    "    \n",
    "    # Print the data, iterating through all trackNames in results:\n",
    "    for result in o['results']:\n",
    "        print(result['trackName'])\n",
    "    \n",
    "main()"
   ]
  },
  {
   "cell_type": "code",
   "execution_count": null,
   "metadata": {},
   "outputs": [],
   "source": [
    "# Create my own module (just make own python file):\n",
    "    # import sys\n",
    "    # from sayings import hello\n",
    "\n",
    "# Remember to use this in order to only import and not execute the main in the module:\n",
    "# Specify in the module NOT in the executed python script:\n",
    "if __name__ == '__main__':\n",
    "    main()\n"
   ]
  }
 ],
 "metadata": {
  "kernelspec": {
   "display_name": "Python 3",
   "language": "python",
   "name": "python3"
  },
  "language_info": {
   "codemirror_mode": {
    "name": "ipython",
    "version": 3
   },
   "file_extension": ".py",
   "mimetype": "text/x-python",
   "name": "python",
   "nbconvert_exporter": "python",
   "pygments_lexer": "ipython3",
   "version": "3.11.1 (tags/v3.11.1:a7a450f, Dec  6 2022, 19:58:39) [MSC v.1934 64 bit (AMD64)]"
  },
  "orig_nbformat": 4,
  "vscode": {
   "interpreter": {
    "hash": "a0f39f3b23881101a7bcfb8fc19198c94cdcd5b458a2d2413418fdd1409f7093"
   }
  }
 },
 "nbformat": 4,
 "nbformat_minor": 2
}
