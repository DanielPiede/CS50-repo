{
 "cells": [
  {
   "attachments": {},
   "cell_type": "markdown",
   "metadata": {},
   "source": [
    "### Lesson 7 of CS50 (File I/O):\n"
   ]
  },
  {
   "cell_type": "code",
   "execution_count": 2,
   "metadata": {},
   "outputs": [],
   "source": [
    "# Make an empty list for names:\n",
    "\n",
    "names = []"
   ]
  },
  {
   "cell_type": "code",
   "execution_count": 3,
   "metadata": {},
   "outputs": [],
   "source": [
    "# Get user input for names and append to a list:\n",
    "for _ in range(3):\n",
    "    names.append(input(\"What is your name? \"))"
   ]
  },
  {
   "cell_type": "code",
   "execution_count": 4,
   "metadata": {},
   "outputs": [
    {
     "name": "stdout",
     "output_type": "stream",
     "text": [
      "Hello, Harry\n",
      "Hello, Hermione\n",
      "Hello, Ron\n"
     ]
    }
   ],
   "source": [
    "# Sort a list and print out the names:\n",
    "\n",
    "for name in sorted(names):\n",
    "    print(f\"Hello, {name}\")"
   ]
  },
  {
   "cell_type": "code",
   "execution_count": 12,
   "metadata": {},
   "outputs": [],
   "source": [
    "# Now saving it in a file:\n",
    "name = input(\"Name? \")\n",
    "# Open a file and write to it (a is append, w is overwrite):\n",
    "file = open(\"names.txt\", \"a\")\n",
    "# Write to file:\n",
    "file.write(f\"{name}\\n\")\n",
    "# Closing the file and saving it:\n",
    "file.close()"
   ]
  },
  {
   "cell_type": "code",
   "execution_count": 18,
   "metadata": {},
   "outputs": [],
   "source": [
    "# To automatically close the file use \"with\" statement\"\n",
    "name = input(\"What is your name? \")\n",
    "\n",
    "with open(\"names.txt\", \"a\") as file:\n",
    "    file.write(f\"{name}\\n\")"
   ]
  },
  {
   "cell_type": "code",
   "execution_count": 20,
   "metadata": {},
   "outputs": [
    {
     "name": "stdout",
     "output_type": "stream",
     "text": [
      "Hello Hermione\n",
      "Hello Harry\n",
      "Hello Draco\n",
      "Hello Ron\n"
     ]
    }
   ],
   "source": [
    "# To read each line in the file:\n",
    "with open(\"names.txt\", \"r\") as file:\n",
    "    lines = file.readlines()\n",
    "    \n",
    "for line in lines:\n",
    "    print(f\"Hello {line}\", end=\"\")"
   ]
  },
  {
   "cell_type": "code",
   "execution_count": 24,
   "metadata": {},
   "outputs": [
    {
     "name": "stdout",
     "output_type": "stream",
     "text": [
      "Hello Hermione\n",
      "Hello Harry\n",
      "Hello Draco\n",
      "Hello Ron\n"
     ]
    }
   ],
   "source": [
    "# Shorter way of reading line in the file:\n",
    "with open(\"names.txt\", \"r\") as file:\n",
    "    for line in file:\n",
    "        print(f\"Hello {line}\", end=\"\")"
   ]
  },
  {
   "cell_type": "code",
   "execution_count": 35,
   "metadata": {},
   "outputs": [
    {
     "name": "stdout",
     "output_type": "stream",
     "text": [
      "Hello, Ron\n",
      "Hello, Hermione\n",
      "Hello, Harry\n",
      "Hello, Draco\n"
     ]
    }
   ],
   "source": [
    "# Shorter way of reading line in the file and sort them in a list:\n",
    "names = []\n",
    "with open(\"names.txt\", \"r\") as file:\n",
    "    for line in file:\n",
    "        names.append(line.rstrip())\n",
    "# Iterate over it reverse it:\n",
    "for name in sorted(names, reverse=True):\n",
    "    print(f\"Hello, {name}\")"
   ]
  },
  {
   "cell_type": "code",
   "execution_count": 36,
   "metadata": {},
   "outputs": [],
   "source": [
    "# Storing that as a CSV file:\n",
    "name = input(\"What is your name? \")\n",
    "\n",
    "with open(\"names.csv\", \"a\") as file:\n",
    "    file.write(f\"{name}\")"
   ]
  },
  {
   "cell_type": "code",
   "execution_count": 38,
   "metadata": {},
   "outputs": [
    {
     "name": "stdout",
     "output_type": "stream",
     "text": [
      "Draco is in Slytherin\n",
      "Harry is in Gryffindor\n",
      "Hermione is in Gryffindor\n",
      "Ron is in Gryffindor\n"
     ]
    }
   ],
   "source": [
    "# Open a CSV file and separate with, as this is the next column:\n",
    "\n",
    "with open(\"names.csv\", \"r\") as file:\n",
    "    for line in sorted(file):\n",
    "        row = line.strip().split(\",\")\n",
    "        print(f\"{row[0]} is in {row[1]}\")"
   ]
  },
  {
   "cell_type": "code",
   "execution_count": 46,
   "metadata": {},
   "outputs": [
    {
     "name": "stdout",
     "output_type": "stream",
     "text": [
      "Draco is in Slytherin\n",
      "Harry is in Gryffindor\n",
      "Hermione is in Gryffindor\n",
      "Ron is in Gryffindor\n"
     ]
    }
   ],
   "source": [
    "# More well written version of above:\n",
    "with open(\"names.csv\", \"r\") as file:\n",
    "    for line in sorted(file):\n",
    "        # As we know that the split function returns two parts, we can just assign them to two variables:\n",
    "        name, house = line.strip().split(\",\")\n",
    "        print(f\"{name} is in {house}\")"
   ]
  },
  {
   "cell_type": "code",
   "execution_count": 66,
   "metadata": {},
   "outputs": [
    {
     "name": "stdout",
     "output_type": "stream",
     "text": [
      "Draco is from Malfoy Manor\n",
      "Harry is from Number Four, Privet Drive\n",
      "Ron is from The Burrow\n"
     ]
    }
   ],
   "source": [
    "# Do it with a dictionary:\n",
    "students = []\n",
    "with open(\"names.csv\", \"r\") as file:\n",
    "    for line in sorted(file):\n",
    "        name, home = line.strip().split(\";\")\n",
    "        student = {\"name\": name, \"home\": home}\n",
    "        students.append(student)\n",
    "\n",
    "# Sort the list by looking at the the name of students in each dictionary:\n",
    "# Also, using a lambda function:\n",
    "for student in sorted(students, key=lambda student: student[\"name\"]):\n",
    "    print(f\"{student['name']} is from {student['home']}\")"
   ]
  },
  {
   "cell_type": "code",
   "execution_count": 73,
   "metadata": {},
   "outputs": [
    {
     "name": "stdout",
     "output_type": "stream",
     "text": [
      "Draco is from Malfoy Manor\n",
      "Harry is from Number Four, Privet Drive\n",
      "Ron is from The Burrow\n"
     ]
    }
   ],
   "source": [
    "# Using a module for CSV instead:\n",
    "import csv\n",
    "\n",
    "# Do it with a dictionary:\n",
    "students = []\n",
    "with open(\"names.csv\", \"r\") as file:\n",
    "    # Use the reader function for CSV:\n",
    "    reader = csv.reader(file, delimiter=\";\")\n",
    "    for name, home in reader:\n",
    "        students.append({\"name\": name, \"home\": home})\n",
    "\n",
    "# Sort the list by looking at the the name of students in each dictionary:\n",
    "# Also, using a lambda function:\n",
    "for student in sorted(students, key=lambda student: student[\"name\"]):\n",
    "    print(f\"{student['name']} is from {student['home']}\")"
   ]
  }
 ],
 "metadata": {
  "kernelspec": {
   "display_name": "Python 3",
   "language": "python",
   "name": "python3"
  },
  "language_info": {
   "codemirror_mode": {
    "name": "ipython",
    "version": 3
   },
   "file_extension": ".py",
   "mimetype": "text/x-python",
   "name": "python",
   "nbconvert_exporter": "python",
   "pygments_lexer": "ipython3",
   "version": "3.11.1"
  },
  "orig_nbformat": 4,
  "vscode": {
   "interpreter": {
    "hash": "a0f39f3b23881101a7bcfb8fc19198c94cdcd5b458a2d2413418fdd1409f7093"
   }
  }
 },
 "nbformat": 4,
 "nbformat_minor": 2
}
