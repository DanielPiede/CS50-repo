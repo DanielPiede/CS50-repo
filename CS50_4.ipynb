{
 "cells": [
  {
   "attachments": {},
   "cell_type": "markdown",
   "metadata": {},
   "source": [
    "### Lesson 4 of CS50 (Exceptions):"
   ]
  },
  {
   "cell_type": "code",
   "execution_count": null,
   "metadata": {},
   "outputs": [],
   "source": [
    "# Error handling with try and catch:\n",
    "try:\n",
    "    x = int(input('Type in an integer: '))\n",
    "    # If this goes wrong, exception will be thrown, else print statement\n",
    "except ValueError:\n",
    "    print('Please type in an integer')\n",
    "else:\n",
    "    print(f'x is {x}')"
   ]
  },
  {
   "cell_type": "code",
   "execution_count": null,
   "metadata": {},
   "outputs": [],
   "source": [
    "# Improvement by inducing a while loop:\n",
    "while True:\n",
    "    try:\n",
    "        x = int(input('Type in an integer: '))\n",
    "        # If this goes wrong, exception will be thrown, else print statement\n",
    "    except ValueError:\n",
    "        print('Please type in an integer')\n",
    "    else:\n",
    "        # breaks out when ValueError is not raised anymore\n",
    "        break\n",
    "    \n",
    "print(f'x is {x}')"
   ]
  },
  {
   "cell_type": "code",
   "execution_count": null,
   "metadata": {},
   "outputs": [],
   "source": [
    "# Use it in a function and break with return instead of break:\n",
    "# main function:\n",
    "def main():\n",
    "    get_int()\n",
    "    \n",
    "# Function get_int();\n",
    "def get_int():\n",
    "    while True:\n",
    "        try:\n",
    "            x = int(input('Type in an integer: '))\n",
    "            # If this goes wrong, exception will be thrown, else print statement\n",
    "        except ValueError:\n",
    "            print('Please type in an integer')\n",
    "        else:\n",
    "            # breaks out (with return) when ValueError is not raised anymore\n",
    "            return x\n",
    "main()"
   ]
  },
  {
   "cell_type": "code",
   "execution_count": null,
   "metadata": {},
   "outputs": [],
   "source": [
    "# Do not state explicitly that the value passed is not an integer with pass:\n",
    "# main function:\n",
    "def main():\n",
    "    get_int()\n",
    "    \n",
    "# Function get_int();\n",
    "def get_int():\n",
    "    while True:\n",
    "        try:\n",
    "            # also, no need to define x, just return\n",
    "            return int(input('Type in an integer: '))\n",
    "            # If this goes wrong, exception will be thrown, else print statement\n",
    "        except ValueError:\n",
    "            pass\n",
    "\n",
    "main()"
   ]
  },
  {
   "cell_type": "code",
   "execution_count": null,
   "metadata": {},
   "outputs": [],
   "source": [
    "# Additionally give get_int() a parameter:\n",
    "# main function:\n",
    "def main():\n",
    "    get_int('Whats the number?')\n",
    "    get_int()\n",
    "    \n",
    "# Function get_int();\n",
    "def get_int(prompt = 'Value?'):\n",
    "    while True:\n",
    "        try:\n",
    "            # also, no need to define x, just return\n",
    "            return int(input(prompt))\n",
    "            # If this goes wrong, exception will be thrown, else print statement\n",
    "        except ValueError:\n",
    "            pass\n",
    "\n",
    "main()"
   ]
  },
  {
   "attachments": {},
   "cell_type": "markdown",
   "metadata": {},
   "source": [
    "### Debugging"
   ]
  },
  {
   "cell_type": "code",
   "execution_count": 54,
   "metadata": {},
   "outputs": [
    {
     "name": "stdout",
     "output_type": "stream",
     "text": [
      "#\n",
      "##\n",
      "###\n",
      "####\n",
      "#####\n",
      "######\n",
      "#######\n",
      "########\n",
      "#########\n",
      "##########\n"
     ]
    }
   ],
   "source": [
    "# Investigating code using breakpoints:\n",
    "def main():\n",
    "    height = int(input('Height: '))\n",
    "    pyramid(height)\n",
    "    \n",
    "def pyramid(n):\n",
    "    for i in range(n):\n",
    "        print('#' * (i + 1))\n",
    "        \n",
    "if __name__ == '__main__':\n",
    "    main()"
   ]
  }
 ],
 "metadata": {
  "kernelspec": {
   "display_name": "Python 3",
   "language": "python",
   "name": "python3"
  },
  "language_info": {
   "codemirror_mode": {
    "name": "ipython",
    "version": 3
   },
   "file_extension": ".py",
   "mimetype": "text/x-python",
   "name": "python",
   "nbconvert_exporter": "python",
   "pygments_lexer": "ipython3",
   "version": "3.11.1 (tags/v3.11.1:a7a450f, Dec  6 2022, 19:58:39) [MSC v.1934 64 bit (AMD64)]"
  },
  "orig_nbformat": 4,
  "vscode": {
   "interpreter": {
    "hash": "a0f39f3b23881101a7bcfb8fc19198c94cdcd5b458a2d2413418fdd1409f7093"
   }
  }
 },
 "nbformat": 4,
 "nbformat_minor": 2
}
