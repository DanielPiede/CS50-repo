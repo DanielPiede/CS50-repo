{
 "cells": [
  {
   "attachments": {},
   "cell_type": "markdown",
   "metadata": {},
   "source": [
    "### Lesson 8 of CS50 (RegEx):"
   ]
  },
  {
   "cell_type": "code",
   "execution_count": null,
   "metadata": {},
   "outputs": [],
   "source": [
    "# Import the library for regular expressions:\n",
    "import re\n",
    "# Set a default string to check with regular expressions:\n",
    "email = \"danielpiede@abcd?com\"\n",
    "# Use the search from re to check the email address:\n",
    "# Use r for marking as a raw string:\n",
    "if re.search(r\".+@.+\\.com\", email):\n",
    "    print(\"Valid\")\n",
    "else:\n",
    "    print(\"Invalid\")"
   ]
  },
  {
   "cell_type": "code",
   "execution_count": null,
   "metadata": {},
   "outputs": [],
   "source": [
    "# Enhance further, as there are many corner cases not covered yet:\n",
    "\n",
    "email = \"daniel.piede@keio.jp\"\n",
    "# ^ for matching start of the string, $ matching the end of the string:\n",
    "# Use [] to specify a set of characters, and [^] to exclude a set of characters:\n",
    "# Use r for marking as a raw string:\n",
    "if re.search(r\"^[a-zA-Z0-9_\\.]+@[a-zA-Z0-9_\\.]+\\.jp$\", email):\n",
    "    print(\"Valid\")\n",
    "else:\n",
    "    print(\"Invalid\")"
   ]
  },
  {
   "cell_type": "code",
   "execution_count": null,
   "metadata": {},
   "outputs": [],
   "source": [
    "# To make it easier we can use a predifined set of characters:\n",
    "\n",
    "email = \"daniel.piede@keio.jp\"\n",
    "\n",
    "if re.search(r\"^[\\w.]+@\\w+\\.jp$\", email):\n",
    "    print(\"Valid\")\n",
    "else:\n",
    "    print(\"Invalid\")"
   ]
  },
  {
   "cell_type": "code",
   "execution_count": null,
   "metadata": {},
   "outputs": [],
   "source": [
    "# Use flags to make it ignoring the case:\n",
    "\n",
    "email = \"daniel.piede@keio.jp\"\n",
    "\n",
    "if re.search(r\"^[\\w.]+@\\w+\\.jp$\", email, flags=re.IGNORECASE):\n",
    "    print(\"Valid\")\n",
    "else:\n",
    "    print(\"Invalid\")"
   ]
  },
  {
   "cell_type": "code",
   "execution_count": null,
   "metadata": {},
   "outputs": [],
   "source": [
    "# Group things together with () and use ? for 0 or 1 repetition:\n",
    "emails = [\n",
    "    \"daniel.piede@cs50.keio.jp\",\n",
    "    \"danielpiede@keio.jp\",\n",
    "    \"danielpiede@keio.\",\n",
    "    \"somethingelse.com\",\n",
    "]\n",
    "\n",
    "for email in emails:\n",
    "\n",
    "    if re.search(r\"^(\\w|\\.)+@(\\w+\\.)?\\w+\\.jp$\", email, flags=re.IGNORECASE):\n",
    "        print(\"Valid\")\n",
    "    else:\n",
    "        print(\"Invalid\")"
   ]
  },
  {
   "attachments": {},
   "cell_type": "markdown",
   "metadata": {},
   "source": [
    "#### As some of the regexes are super cryptic, we can use some libraries!"
   ]
  },
  {
   "cell_type": "code",
   "execution_count": null,
   "metadata": {},
   "outputs": [],
   "source": [
    "# Instead of searching for something in we can match or fullmatch:\n",
    "# Somewhere in the string:\n",
    "re.search()\n",
    "# From the start\n",
    "re.match() \n",
    "# All of the string:\n",
    "re.fullmatch()"
   ]
  },
  {
   "cell_type": "code",
   "execution_count": null,
   "metadata": {},
   "outputs": [],
   "source": [
    "# Instead of validate, clean up input (format):\n",
    "\n",
    "names = [\"Daniel Piede\", \"Airi Takahashi\", \"Malan, David\" \"Malen David, Jr\"]\n",
    "\n",
    "for name in names:\n",
    "    if \",\" in name:\n",
    "        last, first = name.split(\", \")\n",
    "        name = f\"{first} {last}\"\n",
    "    print(f\"Hello, {name}\")\n",
    "\n",
    "# This is not sufficient as seen for case 4 in names. Therefore, we need to leverage the power of regex."
   ]
  },
  {
   "cell_type": "code",
   "execution_count": 8,
   "metadata": {},
   "outputs": [
    {
     "name": "stdout",
     "output_type": "stream",
     "text": [
      "Hello, Daniel Piede\n"
     ]
    }
   ],
   "source": [
    "# Using re\n",
    "\n",
    "import re\n",
    "\n",
    "check = input(\"What is the name? \").strip()\n",
    "#  we can set groups with paranthesis if not referencing explicitly how many times.\n",
    "matches = re.search(r\"^(.+), (.+)$\", check)\n",
    "if matches:\n",
    "    # Use groups to get them back:\n",
    "    last, first = matches.groups()\n",
    "    check = f\"{first} {last}\"\n",
    "print(f\"Hello, {check}\")\n"
   ]
  },
  {
   "cell_type": "code",
   "execution_count": 11,
   "metadata": {},
   "outputs": [
    {
     "name": "stdout",
     "output_type": "stream",
     "text": [
      "Hello, Piede, Daniel\n"
     ]
    }
   ],
   "source": [
    "# Using re\n",
    "\n",
    "import re\n",
    "\n",
    "check = input(\"What is the name? \").strip()\n",
    "#  we can set groups with paranthesis if not referencing explicitly how many times.\n",
    "matches = re.search(r\"^(.+), (.+)$\", check)\n",
    "if matches:\n",
    "    # Use group(n) to get a specific group back:\n",
    "    last = matches.group(0)\n",
    "    # check = f\"{first} {last}\"\n",
    "print(f\"Hello, {last}\")"
   ]
  },
  {
   "cell_type": "code",
   "execution_count": 14,
   "metadata": {},
   "outputs": [
    {
     "name": "stdout",
     "output_type": "stream",
     "text": [
      "Hello, Daniel Piede\n"
     ]
    }
   ],
   "source": [
    "# Using re\n",
    "\n",
    "import re\n",
    "\n",
    "check = input(\"What is the name? \").strip()\n",
    "#  we can set groups with paranthesis if not referencing explicitly how many times.\n",
    "# This time we check if there is one, many or none space after the comma:\n",
    "# Using the walrus operator to check and assign at the same time:\n",
    "if matches := re.search(r\"^(.+), *(.+)$\", check):\n",
    "    # Use groups to get them back:\n",
    "    last, first = matches.groups()\n",
    "    check = f\"{first} {last}\"\n",
    "print(f\"Hello, {check}\")"
   ]
  },
  {
   "cell_type": "code",
   "execution_count": 21,
   "metadata": {},
   "outputs": [
    {
     "name": "stdout",
     "output_type": "stream",
     "text": [
      "danielpiede\n",
      "davidjmalan\n",
      "imaqtpie\n"
     ]
    }
   ],
   "source": [
    "# Give me a twitter url and give the username back:\n",
    "import re\n",
    "\n",
    "urls = [\"https://twitter.com/danielpiede\", \"twitter.com/davidjmalan\", \"www.twitter.com/imaqtpie\"]\n",
    "pattern = \"\"\n",
    "for url in urls:\n",
    "    username = re.sub(r\"^(https?://)?(www\\.)?twitter\\.com/\", \"\", url)\n",
    "    print(username)"
   ]
  },
  {
   "cell_type": "code",
   "execution_count": 59,
   "metadata": {},
   "outputs": [
    {
     "name": "stdout",
     "output_type": "stream",
     "text": [
      "danielpiede\n",
      "davidjmalan\n",
      "imaqtpie\n",
      "david\n"
     ]
    }
   ],
   "source": [
    "# Solve the same issue as above but with re.search()\n",
    "import re\n",
    "\n",
    "urls = [\n",
    "    \"https://twitter.com/danielpiede\",\n",
    "    \"twitter.com/davidjmalan\",\n",
    "    \"www.twitter.com/imaqtpie\",\n",
    "    \"twitter.de/david\"\n",
    "]\n",
    "\n",
    "top_level = \"(com|org|jp|de)\"\n",
    "\n",
    "pattern = \"\"\n",
    "for url in urls:\n",
    "    if matches := re.search(\n",
    "        rf\"^(?:https?://)?(?:www\\.)?twitter\\.{top_level}/([a-z0-9_]+)$\", url, re.IGNORECASE\n",
    "    ):\n",
    "        print(matches.group(2))"
   ]
  }
 ],
 "metadata": {
  "kernelspec": {
   "display_name": "Python 3",
   "language": "python",
   "name": "python3"
  },
  "language_info": {
   "codemirror_mode": {
    "name": "ipython",
    "version": 3
   },
   "file_extension": ".py",
   "mimetype": "text/x-python",
   "name": "python",
   "nbconvert_exporter": "python",
   "pygments_lexer": "ipython3",
   "version": "3.11.1"
  },
  "orig_nbformat": 4,
  "vscode": {
   "interpreter": {
    "hash": "a0f39f3b23881101a7bcfb8fc19198c94cdcd5b458a2d2413418fdd1409f7093"
   }
  }
 },
 "nbformat": 4,
 "nbformat_minor": 2
}
