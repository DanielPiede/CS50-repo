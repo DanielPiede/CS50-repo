{
 "cells": [
  {
   "attachments": {},
   "cell_type": "markdown",
   "metadata": {},
   "source": [
    "### Lesson 8 of CS50 (RegEx):"
   ]
  },
  {
   "cell_type": "code",
   "execution_count": 33,
   "metadata": {},
   "outputs": [
    {
     "name": "stdout",
     "output_type": "stream",
     "text": [
      "Invalid\n"
     ]
    }
   ],
   "source": [
    "# Import the library for regular expressions:\n",
    "import re\n",
    "# Set a default string to check with regular expressions:\n",
    "email = \"danielpiede@abcd?com\"\n",
    "# Use the search from re to check the email address:\n",
    "# Use r for marking as a raw string:\n",
    "if re.search(r\".+@.+\\.com\", email):\n",
    "    print(\"Valid\")\n",
    "else:\n",
    "    print(\"Invalid\")"
   ]
  },
  {
   "cell_type": "code",
   "execution_count": 45,
   "metadata": {},
   "outputs": [
    {
     "name": "stdout",
     "output_type": "stream",
     "text": [
      "Valid\n"
     ]
    }
   ],
   "source": [
    "# Enhance further, as there are many corner cases not covered yet:\n",
    "\n",
    "email = \"daniel.piede@keio.jp\"\n",
    "# ^ for matching start of the string, $ matching the end of the string:\n",
    "# Use [] to specify a set of characters, and [^] to exclude a set of characters:\n",
    "# Use r for marking as a raw string:\n",
    "if re.search(r\"^[a-zA-Z0-9_\\.]+@[a-zA-Z0-9_\\.]+\\.jp$\", email):\n",
    "    print(\"Valid\")\n",
    "else:\n",
    "    print(\"Invalid\")"
   ]
  },
  {
   "cell_type": "code",
   "execution_count": 52,
   "metadata": {},
   "outputs": [
    {
     "name": "stdout",
     "output_type": "stream",
     "text": [
      "Valid\n"
     ]
    }
   ],
   "source": [
    "# To make it easier we can use a predifined set of characters:\n",
    "\n",
    "email = \"daniel.piede@keio.jp\"\n",
    "\n",
    "if re.search(r\"^[\\w.]+@\\w+\\.jp$\", email):\n",
    "    print(\"Valid\")\n",
    "else:\n",
    "    print(\"Invalid\")"
   ]
  }
 ],
 "metadata": {
  "kernelspec": {
   "display_name": "Python 3",
   "language": "python",
   "name": "python3"
  },
  "language_info": {
   "codemirror_mode": {
    "name": "ipython",
    "version": 3
   },
   "file_extension": ".py",
   "mimetype": "text/x-python",
   "name": "python",
   "nbconvert_exporter": "python",
   "pygments_lexer": "ipython3",
   "version": "3.11.1"
  },
  "orig_nbformat": 4,
  "vscode": {
   "interpreter": {
    "hash": "a0f39f3b23881101a7bcfb8fc19198c94cdcd5b458a2d2413418fdd1409f7093"
   }
  }
 },
 "nbformat": 4,
 "nbformat_minor": 2
}
